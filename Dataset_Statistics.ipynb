{
 "cells": [
  {
   "cell_type": "code",
   "execution_count": 42,
   "metadata": {},
   "outputs": [
    {
     "name": "stdout",
     "output_type": "stream",
     "text": [
      "Real\\Business\\bus1.txt\n",
      "446\n",
      "Real\\Business\\bus10.txt\n",
      "202\n",
      "Real\\Business\\bus100.txt\n",
      "432\n",
      "Real\\Business\\bus11.txt\n",
      "136\n",
      "Real\\Business\\bus12.txt\n",
      "1532\n",
      "Real\\Business\\bus13.txt\n",
      "763\n",
      "Real\\Business\\bus14.txt\n",
      "123\n",
      "Real\\Business\\bus15.txt\n",
      "152\n",
      "Real\\Business\\bus16.txt\n",
      "580\n",
      "Real\\Business\\bus17.txt\n",
      "206\n",
      "Real\\Business\\bus18.txt\n",
      "1957\n",
      "Real\\Business\\bus19.txt\n",
      "613\n",
      "Real\\Business\\bus2.txt\n",
      "329\n",
      "Real\\Business\\bus20.txt\n",
      "137\n",
      "Real\\Business\\bus21.txt\n",
      "738\n",
      "Real\\Business\\bus22.txt\n",
      "136\n",
      "Real\\Business\\bus23.txt\n",
      "464\n",
      "Real\\Business\\bus24.txt\n",
      "358\n",
      "Real\\Business\\bus25.txt\n",
      "814\n",
      "Real\\Business\\bus26.txt\n",
      "308\n",
      "Real\\Business\\bus27.txt\n",
      "357\n",
      "Real\\Business\\bus28.txt\n",
      "695\n",
      "Real\\Business\\bus29.txt\n",
      "139\n",
      "Real\\Business\\bus3.txt\n",
      "841\n",
      "Real\\Business\\bus30.txt\n",
      "129\n",
      "Real\\Business\\bus31.txt\n",
      "299\n",
      "Real\\Business\\bus32.txt\n",
      "820\n",
      "Real\\Business\\bus33.txt\n",
      "151\n",
      "Real\\Business\\bus34.txt\n",
      "222\n",
      "Real\\Business\\bus35.txt\n",
      "433\n",
      "Real\\Business\\bus36.txt\n",
      "226\n",
      "Real\\Business\\bus37.txt\n",
      "122\n",
      "Real\\Business\\bus38.txt\n",
      "136\n",
      "Real\\Business\\bus39.txt\n",
      "1308\n",
      "Real\\Business\\bus4.txt\n",
      "396\n",
      "Real\\Business\\bus40.txt\n",
      "278\n",
      "Real\\Business\\bus41.txt\n",
      "751\n",
      "Real\\Business\\bus42.txt\n",
      "213\n",
      "Real\\Business\\bus43.txt\n",
      "747\n",
      "Real\\Business\\bus44.txt\n",
      "178\n",
      "Real\\Business\\bus45.txt\n",
      "925\n",
      "Real\\Business\\bus46.txt\n",
      "202\n",
      "Real\\Business\\bus47.txt\n",
      "68\n",
      "Real\\Business\\bus48.txt\n",
      "1111\n",
      "Real\\Business\\bus49.txt\n",
      "151\n",
      "Real\\Business\\bus5.txt\n",
      "226\n",
      "Real\\Business\\bus50.txt\n",
      "367\n",
      "Real\\Business\\bus51.txt\n",
      "204\n",
      "Real\\Business\\bus52.txt\n",
      "693\n",
      "Real\\Business\\bus53.txt\n",
      "184\n",
      "Real\\Business\\bus54.txt\n",
      "337\n",
      "Real\\Business\\bus55.txt\n",
      "165\n",
      "Real\\Business\\bus56.txt\n",
      "1020\n",
      "Real\\Business\\bus57.txt\n",
      "507\n",
      "Real\\Business\\bus58.txt\n",
      "509\n",
      "Real\\Business\\bus59.txt\n",
      "302\n",
      "Real\\Business\\bus6.txt\n",
      "441\n",
      "Real\\Business\\bus60.txt\n",
      "320\n",
      "Real\\Business\\bus61.txt\n",
      "391\n",
      "Real\\Business\\bus62.txt\n",
      "153\n",
      "Real\\Business\\bus63.txt\n",
      "1591\n",
      "Real\\Business\\bus64.txt\n",
      "542\n",
      "Real\\Business\\bus65.txt\n",
      "266\n",
      "Real\\Business\\bus66.txt\n",
      "381\n",
      "Real\\Business\\bus67.txt\n",
      "312\n",
      "Real\\Business\\bus68.txt\n",
      "961\n",
      "Real\\Business\\bus69.txt\n",
      "1264\n",
      "Real\\Business\\bus7.txt\n",
      "277\n",
      "Real\\Business\\bus70.txt\n",
      "448\n",
      "Real\\Business\\bus71.txt\n",
      "1076\n",
      "Real\\Business\\bus72.txt\n",
      "266\n",
      "Real\\Business\\bus73.txt\n",
      "108\n",
      "Real\\Business\\bus74.txt\n",
      "118\n",
      "Real\\Business\\bus75.txt\n",
      "171\n",
      "Real\\Business\\bus76.txt\n",
      "170\n",
      "Real\\Business\\bus77.txt\n",
      "1007\n",
      "Real\\Business\\bus78.txt\n",
      "413\n",
      "Real\\Business\\bus79.txt\n",
      "378\n",
      "Real\\Business\\bus8.txt\n",
      "311\n",
      "Real\\Business\\bus80.txt\n",
      "127\n",
      "Real\\Business\\bus81.txt\n",
      "83\n",
      "Real\\Business\\bus82.txt\n",
      "677\n",
      "Real\\Business\\bus83.txt\n",
      "552\n",
      "Real\\Business\\bus84.txt\n",
      "719\n",
      "Real\\Business\\bus85.txt\n",
      "156\n",
      "Real\\Business\\bus86.txt\n",
      "125\n",
      "Real\\Business\\bus87.txt\n",
      "1083\n",
      "Real\\Business\\bus88.txt\n",
      "611\n",
      "Real\\Business\\bus89.txt\n",
      "447\n",
      "Real\\Business\\bus9.txt\n",
      "400\n",
      "Real\\Business\\bus90.txt\n",
      "747\n",
      "Real\\Business\\bus91.txt\n",
      "314\n",
      "Real\\Business\\bus92.txt\n",
      "240\n",
      "Real\\Business\\bus93.txt\n",
      "106\n",
      "Real\\Business\\bus94.txt\n",
      "179\n",
      "Real\\Business\\bus95.txt\n",
      "1411\n",
      "Real\\Business\\bus96.txt\n",
      "1332\n",
      "Real\\Business\\bus97.txt\n",
      "804\n",
      "Real\\Business\\bus98.txt\n",
      "112\n",
      "Real\\Business\\bus99.txt\n",
      "578\n"
     ]
    }
   ],
   "source": [
    "import os,glob\n",
    "folder_path = \"Real\\\\Business\\\\\"\n",
    "for filename in glob.glob(os.path.join(folder_path, '*.txt')):\n",
    "    with open(filename,\"r\", encoding=\"utf8\") as f:\n",
    "        text = f.read().split() # read file and split words\n",
    "        print (filename) # print the file name \n",
    "        print (len(text)) # print the total number of words in a file"
   ]
  },
  {
   "cell_type": "code",
   "execution_count": 44,
   "metadata": {},
   "outputs": [
    {
     "name": "stdout",
     "output_type": "stream",
     "text": [
      "48006\n"
     ]
    }
   ],
   "source": [
    "countt = 0\n",
    "folder_path = \"Real\\\\Business\\\\\"\n",
    "for filename in glob.glob(os.path.join(folder_path, '*.txt')):\n",
    "    with open(filename,\"r\", encoding=\"utf8\") as f:\n",
    "        text = f.read().split() # read file and split words\n",
    "        #print (filename) # print the file name\n",
    "        countt = len(text) + countt\n",
    "print (countt) # print the total number of words in a file "
   ]
  },
  {
   "cell_type": "code",
   "execution_count": 45,
   "metadata": {},
   "outputs": [
    {
     "name": "stdout",
     "output_type": "stream",
     "text": [
      "33661\n"
     ]
    }
   ],
   "source": [
    "countt = 0\n",
    "folder_path = \"Real\\\\Health\\\\\"\n",
    "for filename in glob.glob(os.path.join(folder_path, '*.txt')):\n",
    "    with open(filename,\"r\", encoding=\"utf8\") as f:\n",
    "        text = f.read().split() # read file and split words\n",
    "        #print (filename) # print the file name\n",
    "        countt = len(text) + countt\n",
    "print (countt) # print the total number of words in a file "
   ]
  },
  {
   "cell_type": "code",
   "execution_count": 46,
   "metadata": {},
   "outputs": [
    {
     "name": "stdout",
     "output_type": "stream",
     "text": [
      "28455\n"
     ]
    }
   ],
   "source": [
    "countt = 0\n",
    "folder_path = \"Real\\\\Showbiz\\\\\"\n",
    "for filename in glob.glob(os.path.join(folder_path, '*.txt')):\n",
    "    with open(filename,\"r\", encoding=\"utf8\") as f:\n",
    "        text = f.read().split() # read file and split words\n",
    "        #print (filename) # print the file name\n",
    "        countt = len(text) + countt\n",
    "print (countt) # print the total number of words in a file "
   ]
  },
  {
   "cell_type": "code",
   "execution_count": 47,
   "metadata": {},
   "outputs": [
    {
     "name": "stdout",
     "output_type": "stream",
     "text": [
      "40866\n"
     ]
    }
   ],
   "source": [
    "countt = 0\n",
    "folder_path = \"Real\\\\Sports\\\\\"\n",
    "for filename in glob.glob(os.path.join(folder_path, '*.txt')):\n",
    "    with open(filename,\"r\", encoding=\"utf8\") as f:\n",
    "        text = f.read().split() # read file and split words\n",
    "        #print (filename) # print the file name\n",
    "        countt = len(text) + countt\n",
    "print (countt) # print the total number of words in a file "
   ]
  },
  {
   "cell_type": "code",
   "execution_count": 48,
   "metadata": {},
   "outputs": [
    {
     "name": "stdout",
     "output_type": "stream",
     "text": [
      "35418\n"
     ]
    }
   ],
   "source": [
    "countt = 0\n",
    "folder_path = \"Real\\\\Technology\\\\\"\n",
    "for filename in glob.glob(os.path.join(folder_path, '*.txt')):\n",
    "    with open(filename,\"r\", encoding=\"utf8\") as f:\n",
    "        text = f.read().split() # read file and split words\n",
    "        #print (filename) # print the file name\n",
    "        countt = len(text) + countt\n",
    "print (countt) # print the total number of words in a file "
   ]
  },
  {
   "cell_type": "code",
   "execution_count": 49,
   "metadata": {},
   "outputs": [
    {
     "name": "stdout",
     "output_type": "stream",
     "text": [
      "11849\n"
     ]
    }
   ],
   "source": [
    "countt = 0\n",
    "folder_path = \"Fake\\\\Business\\\\\"\n",
    "for filename in glob.glob(os.path.join(folder_path, '*.txt')):\n",
    "    with open(filename,\"r\", encoding=\"utf8\") as f:\n",
    "        text = f.read().split() # read file and split words\n",
    "        #print (filename) # print the file name\n",
    "        countt = len(text) + countt\n",
    "print (countt) # print the total number of words in a file "
   ]
  },
  {
   "cell_type": "code",
   "execution_count": 50,
   "metadata": {},
   "outputs": [
    {
     "name": "stdout",
     "output_type": "stream",
     "text": [
      "32225\n"
     ]
    }
   ],
   "source": [
    "countt = 0\n",
    "folder_path = \"Fake\\\\Health\\\\\"\n",
    "for filename in glob.glob(os.path.join(folder_path, '*.txt')):\n",
    "    with open(filename,\"r\", encoding=\"utf8\") as f:\n",
    "        text = f.read().split() # read file and split words\n",
    "        #print (filename) # print the file name\n",
    "        countt = len(text) + countt\n",
    "print (countt) # print the total number of words in a file "
   ]
  },
  {
   "cell_type": "code",
   "execution_count": 51,
   "metadata": {},
   "outputs": [
    {
     "name": "stdout",
     "output_type": "stream",
     "text": [
      "28632\n"
     ]
    }
   ],
   "source": [
    "countt = 0\n",
    "folder_path = \"Fake\\\\Showbiz\\\\\"\n",
    "for filename in glob.glob(os.path.join(folder_path, '*.txt')):\n",
    "    with open(filename,\"r\", encoding=\"utf8\") as f:\n",
    "        text = f.read().split() # read file and split words\n",
    "        #print (filename) # print the file name\n",
    "        countt = len(text) + countt\n",
    "print (countt) # print the total number of words in a file "
   ]
  },
  {
   "cell_type": "code",
   "execution_count": 52,
   "metadata": {},
   "outputs": [
    {
     "name": "stdout",
     "output_type": "stream",
     "text": [
      "13124\n"
     ]
    }
   ],
   "source": [
    "countt = 0\n",
    "folder_path = \"Fake\\\\Sports\\\\\"\n",
    "for filename in glob.glob(os.path.join(folder_path, '*.txt')):\n",
    "    with open(filename,\"r\", encoding=\"utf8\") as f:\n",
    "        text = f.read().split() # read file and split words\n",
    "        #print (filename) # print the file name\n",
    "        countt = len(text) + countt\n",
    "print (countt) # print the total number of words in a file "
   ]
  },
  {
   "cell_type": "code",
   "execution_count": 53,
   "metadata": {},
   "outputs": [
    {
     "name": "stdout",
     "output_type": "stream",
     "text": [
      "34472\n"
     ]
    }
   ],
   "source": [
    "countt = 0\n",
    "folder_path = \"Fake\\\\Technology\\\\\"\n",
    "for filename in glob.glob(os.path.join(folder_path, '*.txt')):\n",
    "    with open(filename,\"r\", encoding=\"utf8\") as f:\n",
    "        text = f.read().split() # read file and split words\n",
    "        #print (filename) # print the file name\n",
    "        countt = len(text) + countt\n",
    "print (countt) # print the total number of words in a file "
   ]
  },
  {
   "cell_type": "code",
   "execution_count": 1,
   "metadata": {},
   "outputs": [
    {
     "name": "stdout",
     "output_type": "stream",
     "text": [
      "Corpus\\Train\\Fake\\Business\\bus1.txt\n",
      "538\n",
      "Corpus\\Train\\Fake\\Business\\bus10.txt\n",
      "211\n",
      "Corpus\\Train\\Fake\\Business\\bus11.txt\n",
      "158\n",
      "Corpus\\Train\\Fake\\Business\\bus14.txt\n",
      "131\n",
      "Corpus\\Train\\Fake\\Business\\bus15.txt\n",
      "157\n",
      "Corpus\\Train\\Fake\\Business\\bus17.txt\n",
      "251\n",
      "Corpus\\Train\\Fake\\Business\\bus2.txt\n",
      "370\n",
      "Corpus\\Train\\Fake\\Business\\bus20.txt\n",
      "143\n",
      "Corpus\\Train\\Fake\\Business\\bus22.txt\n",
      "146\n",
      "Corpus\\Train\\Fake\\Business\\bus26.txt\n",
      "636\n",
      "Corpus\\Train\\Fake\\Business\\bus29.txt\n",
      "159\n",
      "Corpus\\Train\\Fake\\Business\\bus30.txt\n",
      "140\n",
      "Corpus\\Train\\Fake\\Business\\bus33.txt\n",
      "195\n",
      "Corpus\\Train\\Fake\\Business\\bus34.txt\n",
      "264\n",
      "Corpus\\Train\\Fake\\Business\\bus36.txt\n",
      "282\n",
      "Corpus\\Train\\Fake\\Business\\bus37.txt\n",
      "147\n",
      "Corpus\\Train\\Fake\\Business\\bus38.txt\n",
      "171\n",
      "Corpus\\Train\\Fake\\Business\\bus4.txt\n",
      "397\n",
      "Corpus\\Train\\Fake\\Business\\bus40.txt\n",
      "309\n",
      "Corpus\\Train\\Fake\\Business\\bus42.txt\n",
      "236\n",
      "Corpus\\Train\\Fake\\Business\\bus44.txt\n",
      "221\n",
      "Corpus\\Train\\Fake\\Business\\bus46.txt\n",
      "211\n",
      "Corpus\\Train\\Fake\\Business\\bus47.txt\n",
      "75\n",
      "Corpus\\Train\\Fake\\Business\\bus49.txt\n",
      "163\n",
      "Corpus\\Train\\Fake\\Business\\bus5.txt\n",
      "275\n",
      "Corpus\\Train\\Fake\\Business\\bus51.txt\n",
      "212\n",
      "Corpus\\Train\\Fake\\Business\\bus53.txt\n",
      "197\n",
      "Corpus\\Train\\Fake\\Business\\bus54.txt\n",
      "342\n",
      "Corpus\\Train\\Fake\\Business\\bus55.txt\n",
      "178\n",
      "Corpus\\Train\\Fake\\Business\\bus6.txt\n",
      "413\n",
      "Corpus\\Train\\Fake\\Business\\bus60.txt\n",
      "319\n",
      "Corpus\\Train\\Fake\\Business\\bus62.txt\n",
      "162\n",
      "Corpus\\Train\\Fake\\Business\\bus66.txt\n",
      "458\n",
      "Corpus\\Train\\Fake\\Business\\bus67.txt\n",
      "344\n",
      "Corpus\\Train\\Fake\\Business\\bus7.txt\n",
      "307\n",
      "Corpus\\Train\\Fake\\Business\\bus70.txt\n",
      "442\n"
     ]
    }
   ],
   "source": [
    "import os,glob\n",
    "folder_path = \"Corpus\\\\Train\\\\Fake\\\\Business\\\\\"\n",
    "for filename in glob.glob(os.path.join(folder_path, '*.txt')):\n",
    "    with open(filename,\"r\", encoding=\"utf8\") as f:\n",
    "        text = f.read().split() # read file and split words\n",
    "        print (filename) # print the file name \n",
    "        print (len(text)) # print the total number of words in a file"
   ]
  },
  {
   "cell_type": "code",
   "execution_count": 22,
   "metadata": {},
   "outputs": [
    {
     "name": "stdout",
     "output_type": "stream",
     "text": [
      "33464\n"
     ]
    }
   ],
   "source": [
    "import os,glob\n",
    "countt = 0\n",
    "folder_path = \"Corpus\\\\Train\\\\Real\\\\Business\\\\\"\n",
    "for filename in glob.glob(os.path.join(folder_path, '*.txt')):\n",
    "    with open(filename,\"r\", encoding=\"utf8\") as f:\n",
    "        text = f.read().split() # read file and split words\n",
    "        #print (filename) # print the file name\n",
    "        countt = len(text) + countt\n",
    "print (countt) # print the total number of words in a file   "
   ]
  },
  {
   "cell_type": "code",
   "execution_count": 23,
   "metadata": {},
   "outputs": [
    {
     "name": "stdout",
     "output_type": "stream",
     "text": [
      "23234\n"
     ]
    }
   ],
   "source": [
    "folder_path = \"Corpus\\\\Train\\\\Real\\\\Health\\\\\"\n",
    "countt = 0\n",
    "for filename in glob.glob(os.path.join(folder_path, '*.txt')):\n",
    "    with open(filename,\"r\", encoding=\"utf8\") as f:\n",
    "        text = f.read().split() # read file and split words\n",
    "        #print (filename) # print the file name\n",
    "        countt = len(text) + countt\n",
    "print (countt) # print the total number of words in a file "
   ]
  },
  {
   "cell_type": "code",
   "execution_count": 24,
   "metadata": {},
   "outputs": [
    {
     "name": "stdout",
     "output_type": "stream",
     "text": [
      "18085\n"
     ]
    }
   ],
   "source": [
    "folder_path = \"Corpus\\\\Train\\\\Real\\\\Showbiz\\\\\"\n",
    "countt = 0\n",
    "for filename in glob.glob(os.path.join(folder_path, '*.txt')):\n",
    "    with open(filename,\"r\", encoding=\"utf8\") as f:\n",
    "        text = f.read().split() # read file and split words\n",
    "        #print (filename) # print the file name\n",
    "        countt = len(text) + countt\n",
    "print (countt) # print the total number of words in a file "
   ]
  },
  {
   "cell_type": "code",
   "execution_count": 25,
   "metadata": {},
   "outputs": [
    {
     "name": "stdout",
     "output_type": "stream",
     "text": [
      "26664\n"
     ]
    }
   ],
   "source": [
    "folder_path = \"Corpus\\\\Train\\\\Real\\\\Sports\\\\\"\n",
    "countt = 0\n",
    "for filename in glob.glob(os.path.join(folder_path, '*.txt')):\n",
    "    with open(filename,\"r\", encoding=\"utf8\") as f:\n",
    "        text = f.read().split() # read file and split words\n",
    "        #print (filename) # print the file name\n",
    "        countt = len(text) + countt\n",
    "print (countt) # print the total number of words in a file "
   ]
  },
  {
   "cell_type": "code",
   "execution_count": 26,
   "metadata": {},
   "outputs": [
    {
     "name": "stdout",
     "output_type": "stream",
     "text": [
      "24382\n"
     ]
    }
   ],
   "source": [
    "folder_path = \"Corpus\\\\Train\\\\Real\\\\Technology\\\\\"\n",
    "countt = 0\n",
    "for filename in glob.glob(os.path.join(folder_path, '*.txt')):\n",
    "    with open(filename,\"r\", encoding=\"utf8\") as f:\n",
    "        text = f.read().split() # read file and split words\n",
    "        #print (filename) # print the file name\n",
    "        countt = len(text) + countt\n",
    "print (countt) # print the total number of words in a file "
   ]
  },
  {
   "cell_type": "code",
   "execution_count": 27,
   "metadata": {},
   "outputs": [
    {
     "name": "stdout",
     "output_type": "stream",
     "text": [
      "9360\n"
     ]
    }
   ],
   "source": [
    "folder_path = \"Corpus\\\\Train\\\\Fake\\\\Business\\\\\"\n",
    "countt = 0\n",
    "for filename in glob.glob(os.path.join(folder_path, '*.txt')):\n",
    "    with open(filename,\"r\", encoding=\"utf8\") as f:\n",
    "        text = f.read().split() # read file and split words\n",
    "        #print (filename) # print the file name\n",
    "        countt = len(text) + countt\n",
    "print (countt) # print the total number of words in a file "
   ]
  },
  {
   "cell_type": "code",
   "execution_count": 28,
   "metadata": {},
   "outputs": [
    {
     "name": "stdout",
     "output_type": "stream",
     "text": [
      "22325\n"
     ]
    }
   ],
   "source": [
    "folder_path = \"Corpus\\\\Train\\\\Fake\\\\Health\\\\\"\n",
    "countt = 0\n",
    "for filename in glob.glob(os.path.join(folder_path, '*.txt')):\n",
    "    with open(filename,\"r\", encoding=\"utf8\") as f:\n",
    "        text = f.read().split() # read file and split words\n",
    "        #print (filename) # print the file name\n",
    "        countt = len(text) + countt\n",
    "print (countt) # print the total number of words in a file "
   ]
  },
  {
   "cell_type": "code",
   "execution_count": 29,
   "metadata": {},
   "outputs": [
    {
     "name": "stdout",
     "output_type": "stream",
     "text": [
      "18497\n"
     ]
    }
   ],
   "source": [
    "folder_path = \"Corpus\\\\Train\\\\Fake\\\\Showbiz\\\\\"\n",
    "countt = 0\n",
    "for filename in glob.glob(os.path.join(folder_path, '*.txt')):\n",
    "    with open(filename,\"r\", encoding=\"utf8\") as f:\n",
    "        text = f.read().split() # read file and split words\n",
    "        #print (filename) # print the file name\n",
    "        countt = len(text) + countt\n",
    "print (countt) # print the total number of words in a file "
   ]
  },
  {
   "cell_type": "code",
   "execution_count": 30,
   "metadata": {},
   "outputs": [
    {
     "name": "stdout",
     "output_type": "stream",
     "text": [
      "11618\n"
     ]
    }
   ],
   "source": [
    "folder_path = \"Corpus\\\\Train\\\\Fake\\\\Sports\\\\\"\n",
    "countt = 0\n",
    "for filename in glob.glob(os.path.join(folder_path, '*.txt')):\n",
    "    with open(filename,\"r\", encoding=\"utf8\") as f:\n",
    "        text = f.read().split() # read file and split words\n",
    "        #print (filename) # print the file name\n",
    "        countt = len(text) + countt\n",
    "print (countt) # print the total number of words in a file "
   ]
  },
  {
   "cell_type": "code",
   "execution_count": 31,
   "metadata": {},
   "outputs": [
    {
     "name": "stdout",
     "output_type": "stream",
     "text": [
      "23508\n"
     ]
    }
   ],
   "source": [
    "folder_path = \"Corpus\\\\Train\\\\Fake\\\\Technology\\\\\"\n",
    "countt = 0\n",
    "for filename in glob.glob(os.path.join(folder_path, '*.txt')):\n",
    "    with open(filename,\"r\", encoding=\"utf8\") as f:\n",
    "        text = f.read().split() # read file and split words\n",
    "        #print (filename) # print the file name\n",
    "        countt = len(text) + countt\n",
    "print (countt) # print the total number of words in a file "
   ]
  },
  {
   "cell_type": "code",
   "execution_count": 32,
   "metadata": {},
   "outputs": [
    {
     "name": "stdout",
     "output_type": "stream",
     "text": [
      "14542\n"
     ]
    }
   ],
   "source": [
    "folder_path = \"Corpus\\\\Test\\\\Real\\\\Business\\\\\"\n",
    "countt = 0\n",
    "for filename in glob.glob(os.path.join(folder_path, '*.txt')):\n",
    "    with open(filename,\"r\", encoding=\"utf8\") as f:\n",
    "        text = f.read().split() # read file and split words\n",
    "        #print (filename) # print the file name\n",
    "        countt = len(text) + countt\n",
    "print (countt) # print the total number of words in a file "
   ]
  },
  {
   "cell_type": "code",
   "execution_count": 33,
   "metadata": {},
   "outputs": [
    {
     "name": "stdout",
     "output_type": "stream",
     "text": [
      "10427\n"
     ]
    }
   ],
   "source": [
    "folder_path = \"Corpus\\\\Test\\\\Real\\\\Health\\\\\"\n",
    "countt = 0\n",
    "for filename in glob.glob(os.path.join(folder_path, '*.txt')):\n",
    "    with open(filename,\"r\", encoding=\"utf8\") as f:\n",
    "        text = f.read().split() # read file and split words\n",
    "        #print (filename) # print the file name\n",
    "        countt = len(text) + countt\n",
    "print (countt) # print the total number of words in a file  "
   ]
  },
  {
   "cell_type": "code",
   "execution_count": 34,
   "metadata": {},
   "outputs": [
    {
     "name": "stdout",
     "output_type": "stream",
     "text": [
      "10370\n"
     ]
    }
   ],
   "source": [
    "folder_path = \"Corpus\\\\Test\\\\Real\\\\Showbiz\\\\\"\n",
    "countt = 0\n",
    "for filename in glob.glob(os.path.join(folder_path, '*.txt')):\n",
    "    with open(filename,\"r\", encoding=\"utf8\") as f:\n",
    "        text = f.read().split() # read file and split words\n",
    "        #print (filename) # print the file name\n",
    "        countt = len(text) + countt\n",
    "print (countt) # print the total number of words in a file  "
   ]
  },
  {
   "cell_type": "code",
   "execution_count": 35,
   "metadata": {},
   "outputs": [
    {
     "name": "stdout",
     "output_type": "stream",
     "text": [
      "14202\n"
     ]
    }
   ],
   "source": [
    "folder_path = \"Corpus\\\\Test\\\\Real\\\\Sports\\\\\"\n",
    "countt = 0\n",
    "for filename in glob.glob(os.path.join(folder_path, '*.txt')):\n",
    "    with open(filename,\"r\", encoding=\"utf8\") as f:\n",
    "        text = f.read().split() # read file and split words\n",
    "        #print (filename) # print the file name\n",
    "        countt = len(text) + countt\n",
    "print (countt) # print the total number of words in a file  "
   ]
  },
  {
   "cell_type": "code",
   "execution_count": 36,
   "metadata": {},
   "outputs": [
    {
     "name": "stdout",
     "output_type": "stream",
     "text": [
      "11036\n"
     ]
    }
   ],
   "source": [
    "folder_path = \"Corpus\\\\Test\\\\Real\\\\Technology\\\\\"\n",
    "countt = 0\n",
    "for filename in glob.glob(os.path.join(folder_path, '*.txt')):\n",
    "    with open(filename,\"r\", encoding=\"utf8\") as f:\n",
    "        text = f.read().split() # read file and split words\n",
    "        #print (filename) # print the file name\n",
    "        countt = len(text) + countt\n",
    "print (countt) # print the total number of words in a file  "
   ]
  },
  {
   "cell_type": "code",
   "execution_count": 37,
   "metadata": {},
   "outputs": [
    {
     "name": "stdout",
     "output_type": "stream",
     "text": [
      "2489\n"
     ]
    }
   ],
   "source": [
    "folder_path = \"Corpus\\\\Test\\\\Fake\\\\Business\\\\\"\n",
    "countt = 0\n",
    "for filename in glob.glob(os.path.join(folder_path, '*.txt')):\n",
    "    with open(filename,\"r\", encoding=\"utf8\") as f:\n",
    "        text = f.read().split() # read file and split words\n",
    "        #print (filename) # print the file name\n",
    "        countt = len(text) + countt\n",
    "print (countt) # print the total number of words in a file  "
   ]
  },
  {
   "cell_type": "code",
   "execution_count": 38,
   "metadata": {},
   "outputs": [
    {
     "name": "stdout",
     "output_type": "stream",
     "text": [
      "9900\n"
     ]
    }
   ],
   "source": [
    "folder_path = \"Corpus\\\\Test\\\\Fake\\\\Health\\\\\"\n",
    "countt = 0\n",
    "for filename in glob.glob(os.path.join(folder_path, '*.txt')):\n",
    "    with open(filename,\"r\", encoding=\"utf8\") as f:\n",
    "        text = f.read().split() # read file and split words\n",
    "        #print (filename) # print the file name\n",
    "        countt = len(text) + countt\n",
    "print (countt) # print the total number of words in a file  "
   ]
  },
  {
   "cell_type": "code",
   "execution_count": 39,
   "metadata": {},
   "outputs": [
    {
     "name": "stdout",
     "output_type": "stream",
     "text": [
      "10135\n"
     ]
    }
   ],
   "source": [
    "folder_path = \"Corpus\\\\Test\\\\Fake\\\\Showbiz\\\\\"\n",
    "countt = 0\n",
    "for filename in glob.glob(os.path.join(folder_path, '*.txt')):\n",
    "    with open(filename,\"r\", encoding=\"utf8\") as f:\n",
    "        text = f.read().split() # read file and split words\n",
    "        #print (filename) # print the file name\n",
    "        countt = len(text) + countt\n",
    "print (countt) # print the total number of words in a file  "
   ]
  },
  {
   "cell_type": "code",
   "execution_count": 40,
   "metadata": {},
   "outputs": [
    {
     "name": "stdout",
     "output_type": "stream",
     "text": [
      "1506\n"
     ]
    }
   ],
   "source": [
    "folder_path = \"Corpus\\\\Test\\\\Fake\\\\Sports\\\\\"\n",
    "countt = 0\n",
    "for filename in glob.glob(os.path.join(folder_path, '*.txt')):\n",
    "    with open(filename,\"r\", encoding=\"utf8\") as f:\n",
    "        text = f.read().split() # read file and split words\n",
    "        #print (filename) # print the file name\n",
    "        countt = len(text) + countt\n",
    "print (countt) # print the total number of words in a file  "
   ]
  },
  {
   "cell_type": "code",
   "execution_count": 41,
   "metadata": {},
   "outputs": [
    {
     "name": "stdout",
     "output_type": "stream",
     "text": [
      "10964\n"
     ]
    }
   ],
   "source": [
    "folder_path = \"Corpus\\\\Test\\\\Fake\\\\Technology\\\\\"\n",
    "countt = 0\n",
    "for filename in glob.glob(os.path.join(folder_path, '*.txt')):\n",
    "    with open(filename,\"r\", encoding=\"utf8\") as f:\n",
    "        text = f.read().split() # read file and split words\n",
    "        #print (filename) # print the file name\n",
    "        countt = len(text) + countt\n",
    "print (countt) # print the total number of words in a file  "
   ]
  },
  {
   "cell_type": "code",
   "execution_count": null,
   "metadata": {},
   "outputs": [],
   "source": []
  },
  {
   "cell_type": "code",
   "execution_count": null,
   "metadata": {},
   "outputs": [],
   "source": []
  },
  {
   "cell_type": "code",
   "execution_count": 32,
   "metadata": {},
   "outputs": [
    {
     "name": "stdout",
     "output_type": "stream",
     "text": [
      "{'بیونس': 2, 'آئرس': 2, '(اُردو': 1, 'پوائنٹ': 1, 'اخبارتازہ': 1, 'ترین': 1, '01': 1, 'دسمبر2018ء)': 1, 'امریکا': 1, 'کینیڈا': 1, 'اور': 1, 'میکسیکو': 1, 'کے': 8, 'رہنماؤں': 1, 'درمیان': 2, 'ایک': 1, 'نئی': 1, 'جنگ': 1, 'شروع': 1, 'ہو': 2, 'گئی': 1, 'غیرملکی': 1, 'خبررساں': 1, 'ادارے': 1, 'مطابق': 2, 'تینوں': 1, 'ممالک': 1, 'سر': 1, 'براہان': 1, 'یہ': 2, 'تجارتی': 3, 'ڈیل': 2, 'طے': 2, 'پانی': 1, 'تھے': 1, 'زرائع': 1, 'نہ': 1, 'پا': 1, 'سکی': 1, 'جسکی': 1, 'وجہ': 1, 'سے': 1, 'امریکی': 1, 'صدر': 1, 'ڈونلڈ': 2, 'ٹرمپ': 2, 'کوشدید': 1, 'تنقید': 1, 'کا': 2, 'ارجنٹائن': 1, 'دارالحکومت': 1, 'میں': 1, 'اس': 2, 'معاہدے': 1, 'پر': 2, 'دستخط': 1, 'ہونے': 1, 'تھت': 1, 'جوکہ': 1, 'تاخیر': 1, 'شکار': 1, 'گئے': 1, 'تقریب': 1, 'موقع': 1, 'نے': 1, 'کطاب': 1, 'بھی': 1, 'کرنا': 1, 'تھا': 1}\n",
      "\n",
      "\n",
      "بیونس 2\n",
      "آئرس 2\n",
      "(اُردو 1\n",
      "پوائنٹ 1\n",
      "اخبارتازہ 1\n",
      "ترین 1\n",
      "01 1\n",
      "دسمبر2018ء) 1\n",
      "امریکا 1\n",
      "کینیڈا 1\n",
      "اور 1\n",
      "میکسیکو 1\n",
      "کے 8\n",
      "رہنماؤں 1\n",
      "درمیان 2\n",
      "ایک 1\n",
      "نئی 1\n",
      "جنگ 1\n",
      "شروع 1\n",
      "ہو 2\n",
      "گئی 1\n",
      "غیرملکی 1\n",
      "خبررساں 1\n",
      "ادارے 1\n",
      "مطابق 2\n",
      "تینوں 1\n",
      "ممالک 1\n",
      "سر 1\n",
      "براہان 1\n",
      "یہ 2\n",
      "تجارتی 3\n",
      "ڈیل 2\n",
      "طے 2\n",
      "پانی 1\n",
      "تھے 1\n",
      "زرائع 1\n",
      "نہ 1\n",
      "پا 1\n",
      "سکی 1\n",
      "جسکی 1\n",
      "وجہ 1\n",
      "سے 1\n",
      "امریکی 1\n",
      "صدر 1\n",
      "ڈونلڈ 2\n",
      "ٹرمپ 2\n",
      "کوشدید 1\n",
      "تنقید 1\n",
      "کا 2\n",
      "ارجنٹائن 1\n",
      "دارالحکومت 1\n",
      "میں 1\n",
      "اس 2\n",
      "معاہدے 1\n",
      "پر 2\n",
      "دستخط 1\n",
      "ہونے 1\n",
      "تھت 1\n",
      "جوکہ 1\n",
      "تاخیر 1\n",
      "شکار 1\n",
      "گئے 1\n",
      "تقریب 1\n",
      "موقع 1\n",
      "نے 1\n",
      "کطاب 1\n",
      "بھی 1\n",
      "کرنا 1\n",
      "تھا 1\n",
      "\n",
      "\n",
      "کے 8\n"
     ]
    }
   ],
   "source": [
    "\n",
    "#Make the dictionary\n",
    "dictionry= dict()\n",
    "for words in text:\n",
    "    dictionry[words] = dictionry.get(words,0) + 1\n",
    "print(dictionry)\n",
    "\n",
    "print('\\n')\n",
    "\n",
    "#Count the frequency of words in the file\n",
    "big_words = None\n",
    "big_count = None\n",
    "for word,count in dictionry.items():\n",
    "    print(word,count)\n",
    "    if big_words is None or count > big_count:\n",
    "        big_words = word\n",
    "        big_count = count\n",
    "        \n",
    "print('\\n')\n",
    "\n",
    "#Most frequent word in file \"bus1.txt\"\n",
    "print(big_words, big_count)"
   ]
  },
  {
   "cell_type": "code",
   "execution_count": null,
   "metadata": {},
   "outputs": [],
   "source": []
  }
 ],
 "metadata": {
  "kernelspec": {
   "display_name": "Python 3",
   "language": "python",
   "name": "python3"
  },
  "language_info": {
   "codemirror_mode": {
    "name": "ipython",
    "version": 3
   },
   "file_extension": ".py",
   "mimetype": "text/x-python",
   "name": "python",
   "nbconvert_exporter": "python",
   "pygments_lexer": "ipython3",
   "version": "3.6.5"
  }
 },
 "nbformat": 4,
 "nbformat_minor": 2
}
