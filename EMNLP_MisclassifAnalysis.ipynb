{
 "cells": [
  {
   "cell_type": "code",
   "execution_count": 1,
   "metadata": {},
   "outputs": [],
   "source": [
    "#DO NOT RUN!!! \n",
    "# needed to make it run on Alisa's laptop -- ignore otherwise \n",
    "import sys \n",
    "#sys.executable, sys.path\n",
    "sys.path.append('/Users/alisa/workspace/Urdu_Fake_News/envname/lib/python3.7/site-packages')"
   ]
  },
  {
   "cell_type": "code",
   "execution_count": 12,
   "metadata": {},
   "outputs": [],
   "source": [
    "from pathlib import Path\n",
    "import numpy as np"
   ]
  },
  {
   "cell_type": "markdown",
   "metadata": {},
   "source": [
    "## Reading Classification Results"
   ]
  },
  {
   "cell_type": "code",
   "execution_count": 2,
   "metadata": {},
   "outputs": [
    {
     "name": "stdout",
     "output_type": "stream",
     "text": [
      "y_probabilities_for_roccurve_MT.json\r\n",
      "y_probabilities_for_roccurve_MT_Orignal\r\n",
      "y_probabilities_for_roccurve_Mixed.json\r\n",
      "y_probabilities_for_roccurve_Mixed_Downsize.json\r\n",
      "y_probabilities_for_roccurve_Orignal_MT.json\r\n",
      "y_probabilities_for_roccurve_Urdu.json\r\n"
     ]
    }
   ],
   "source": [
    "%ls ./results/EMNLP/"
   ]
  },
  {
   "cell_type": "code",
   "execution_count": 33,
   "metadata": {},
   "outputs": [
    {
     "data": {
      "text/plain": [
       "dict_keys(['test_y', '2c-2w-2f', '2c-1w-0f', '1c-1w-0f', '2c-0w-0f', '0c-2w-0f'])"
      ]
     },
     "execution_count": 33,
     "metadata": {},
     "output_type": "execute_result"
    }
   ],
   "source": [
    "import json \n",
    "\n",
    "y_prob_Urdu = json.load(open(Path('./results/EMNLP/y_probabilities_for_roccurve_Urdu.json')))\n",
    "y_prob_MT = json.load(open(Path('./results/EMNLP/y_probabilities_for_roccurve_MT.json')))\n",
    "y_prob_Mixed = json.load(open(Path('./results/EMNLP/y_probabilities_for_roccurve_Mixed.json')))\n",
    "y_prob_Mixed_Donwsized = json.load(open(Path('./results/EMNLP/y_probabilities_for_roccurve_Mixed_Downsize.json')))\n",
    "y_prob_Orignal_MT = json.load(open(Path('./results/EMNLP/y_probabilities_for_roccurve_Orignal_MT.json')))\n",
    "y_prob_MT_Orignal = json.load(open(Path('./results/EMNLP/y_probabilities_for_roccurve_MT_Orignal')))\n",
    "\n",
    "y_prob_MT.keys()"
   ]
  },
  {
   "cell_type": "code",
   "execution_count": 61,
   "metadata": {},
   "outputs": [],
   "source": [
    "EXP_KEYS = ['2c-2w-2f', '2c-1w-0f', '1c-1w-0f', '2c-0w-0f', '0c-2w-0f']"
   ]
  },
  {
   "cell_type": "code",
   "execution_count": 46,
   "metadata": {},
   "outputs": [],
   "source": [
    "# setting paths variables\n",
    "CORPORA_DIR_PATH = Path('Corpora/')\n",
    "TEST_REAL_PART_PATH = 'Test/Real'\n",
    "TEST_FAKE_PART_PATH = 'Test/Fake'\n",
    "\n",
    "RESULT_PATH = Path('results/EMNLP/Misclassification_Analysis/')\n",
    "FAKE_AS_LEGIT_STR = 'fake_as_legit'\n",
    "LEGIT_AS_FAKE_STR = 'legit_as_fake'"
   ]
  },
  {
   "cell_type": "code",
   "execution_count": 41,
   "metadata": {},
   "outputs": [
    {
     "name": "stdout",
     "output_type": "stream",
     "text": [
      "\u001b[34m1.Corpus\u001b[m\u001b[m/                \u001b[34m3.Corpus_Mixed\u001b[m\u001b[m/          \u001b[34m5.Cross_MT_Orignal\u001b[m\u001b[m/\r\n",
      "\u001b[34m2.CorpusMT\u001b[m\u001b[m/              \u001b[34m4.Corpus_Mixed_Downsize\u001b[m\u001b[m/ \u001b[34m6.Cross_Orignal_MT\u001b[m\u001b[m/\r\n"
     ]
    }
   ],
   "source": [
    "%ls results/EMNLP/Misclassification_Analysis/"
   ]
  },
  {
   "cell_type": "markdown",
   "metadata": {},
   "source": [
    "## Misclassification Analysis"
   ]
  },
  {
   "cell_type": "code",
   "execution_count": 69,
   "metadata": {},
   "outputs": [],
   "source": [
    "import numpy as np\n",
    "\n",
    "def detect_real_fake_part(y_prob):\n",
    "    return np.where((np.array(y_prob['test_y']) == 0) == False)[0][0]"
   ]
  },
  {
   "cell_type": "code",
   "execution_count": 81,
   "metadata": {},
   "outputs": [],
   "source": [
    "import shutil \n",
    "import numpy as np\n",
    "from pathlib import Path\n",
    "\n",
    "def find_and_copy_missclassified_files(y_proba, corpus_name, threshold=0.5):    \n",
    "    part_len = detect_real_fake_part(y_proba)    \n",
    "        \n",
    "    test_real_path =  Path(CORPORA_DIR_PATH, corpus_name,  TEST_REAL_PART_PATH)\n",
    "    test_real_files_sorted = sorted(test_real_path.glob('*.txt'))\n",
    "    \n",
    "    test_fake_path =  Path(CORPORA_DIR_PATH, corpus_name,  TEST_FAKE_PART_PATH)\n",
    "    test_fake_files_sorted = sorted(test_fake_path.glob('*.txt'))\n",
    "    \n",
    "    total_legit_as_fake = 0 \n",
    "    total_fake_as_legit = 0 \n",
    "    \n",
    "    for exp in EXP_KEYS:\n",
    "        # legit as fake \n",
    "        misclassified_legit_as_fake_idxs = np.where((np.array(y_proba[exp][:part_len]) >= threshold) == True)[0]\n",
    "        total_legit_as_fake += len(misclassified_legit_as_fake_idxs)\n",
    "        legit_as_fake_dir = Path(RESULT_PATH, corpus_name, exp, LEGIT_AS_FAKE_STR)        \n",
    "        for file_idx in misclassified_legit_as_fake_idxs: \n",
    "            src_file = test_real_files_sorted[file_idx]\n",
    "            dest_file = Path(legit_as_fake_dir, src_file.name)\n",
    "            shutil.copyfile(src_file, dest_file)\n",
    "                        \n",
    "        # fake as legit     \n",
    "        misclassified_fake_as_legit_idxs = np.where((np.array(y_proba[exp][part_len:]) >= threshold) == False)[0]    \n",
    "        total_fake_as_legit += len(misclassified_fake_as_legit_idxs)\n",
    "        fake_as_legit_dir = Path(RESULT_PATH,  corpus_name, exp, FAKE_AS_LEGIT_STR)\n",
    "        for file_idx in misclassified_fake_as_legit_idxs: \n",
    "            src_file = test_fake_files_sorted[file_idx]\n",
    "            dest_file = Path(fake_as_legit_dir, src_file.name)\n",
    "            shutil.copyfile(src_file, dest_file)\n",
    "            \n",
    "    return total_legit_as_fake, total_fake_as_legit          "
   ]
  },
  {
   "cell_type": "code",
   "execution_count": 75,
   "metadata": {},
   "outputs": [],
   "source": [
    "corpora = ['1.Corpus', '2.CorpusMT', '3.Corpus_Mixed', '4.Corpus_Mixed_Downsize', '5.Cross_MT_Orignal', '6.Cross_Orignal_MT']"
   ]
  },
  {
   "cell_type": "code",
   "execution_count": 83,
   "metadata": {},
   "outputs": [],
   "source": [
    "y_probabs = {}\n",
    "y_probabs[corpora[0]] = y_prob_Urdu\n",
    "y_probabs[corpora[1]] = y_prob_MT\n",
    "y_probabs[corpora[2]] = y_prob_Mixed\n",
    "y_probabs[corpora[3]] = y_prob_Mixed_Donwsized\n",
    "y_probabs[corpora[4]] = y_prob_MT_Orignal\n",
    "y_probabs[corpora[5]] = y_prob_Orignal_MT"
   ]
  },
  {
   "cell_type": "code",
   "execution_count": 84,
   "metadata": {},
   "outputs": [
    {
     "name": "stdout",
     "output_type": "stream",
     "text": [
      "1.Corpus\n",
      "1.Corpus 150\n",
      "2.CorpusMT\n",
      "2.CorpusMT 60\n",
      "3.Corpus_Mixed\n",
      "3.Corpus_Mixed 210\n",
      "4.Corpus_Mixed_Downsize\n",
      "4.Corpus_Mixed_Downsize 147\n",
      "5.Cross_MT_Orignal\n",
      "5.Cross_MT_Orignal 150\n",
      "6.Cross_Orignal_MT\n",
      "6.Cross_Orignal_MT 60\n"
     ]
    }
   ],
   "source": [
    "for corpus in corpora: \n",
    "    print(corpus)\n",
    "    find_and_copy_missclassified_files(y_probabs[corpus], corpus)"
   ]
  }
 ],
 "metadata": {
  "kernelspec": {
   "display_name": "Python 3",
   "language": "python",
   "name": "python3"
  },
  "language_info": {
   "codemirror_mode": {
    "name": "ipython",
    "version": 3
   },
   "file_extension": ".py",
   "mimetype": "text/x-python",
   "name": "python",
   "nbconvert_exporter": "python",
   "pygments_lexer": "ipython3",
   "version": "3.7.2"
  },
  "toc": {
   "base_numbering": 1,
   "nav_menu": {},
   "number_sections": true,
   "sideBar": true,
   "skip_h1_title": true,
   "title_cell": "Table of Contents",
   "title_sidebar": "Contents",
   "toc_cell": false,
   "toc_position": {},
   "toc_section_display": true,
   "toc_window_display": true
  }
 },
 "nbformat": 4,
 "nbformat_minor": 2
}
