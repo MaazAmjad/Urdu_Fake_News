{
 "cells": [
  {
   "cell_type": "markdown",
   "metadata": {},
   "source": [
    "##### Step 1: Import libraries"
   ]
  },
  {
   "cell_type": "code",
   "execution_count": 149,
   "metadata": {},
   "outputs": [],
   "source": [
    "import numpy as np\n",
    "import pandas as pd\n",
    "import matplotlib.pyplot as plt\n",
    "import seaborn as sns\n",
    "import re\n",
    "from pathlib import Path\n",
    "from sklearn.preprocessing import StandardScaler\n",
    "# roc curve and auc score\n",
    "from sklearn.datasets import make_classification\n",
    "from sklearn.neighbors import KNeighborsClassifier\n",
    "from sklearn.ensemble import AdaBoostClassifier\n",
    "from sklearn.model_selection import train_test_split\n",
    "from sklearn.metrics import roc_curve\n",
    "from sklearn.metrics import roc_auc_score"
   ]
  },
  {
   "cell_type": "markdown",
   "metadata": {},
   "source": [
    "##### Step 2: Defining a python function to plot the ROC curves."
   ]
  },
  {
   "cell_type": "code",
   "execution_count": 150,
   "metadata": {},
   "outputs": [],
   "source": [
    "def plot_roc_curve(fpr, tpr):\n",
    "    plt.plot(fpr, tpr, color='orange', label='ROC')\n",
    "    plt.plot([0, 1], [0, 1], color='darkblue', linestyle='--')\n",
    "    plt.xlabel('False Positive Rate')\n",
    "    plt.ylabel('True Positive Rate')\n",
    "    plt.title('Receiver Operating Characteristic (ROC) Curve')\n",
    "    plt.legend()\n",
    "    plt.show()"
   ]
  },
  {
   "cell_type": "markdown",
   "metadata": {},
   "source": [
    "#### Step 3: Generate sample data."
   ]
  },
  {
   "cell_type": "code",
   "execution_count": 151,
   "metadata": {},
   "outputs": [],
   "source": [
    "def preprocessText(text):\n",
    "    #here remove text\n",
    "    cleantext=re.sub(\"\\d+\", \"0\", text)\n",
    "    return cleantext\n",
    "#utility function for reading files\n",
    "def read_txt_files(files):\n",
    "    text=[]\n",
    "    topic=[]\n",
    "    for i,file_path in enumerate(files):\n",
    "        with open(file_path,'r' , encoding = 'utf-8') as infile:\n",
    "            cleantext=preprocessText(infile.read())\n",
    "            text.append(cleantext)\n",
    "            file_topic=''.join(re.findall('[A-Za-z]', file_path.stem))\n",
    "            topic.append(file_topic)\n",
    "    return text, topic"
   ]
  },
  {
   "cell_type": "code",
   "execution_count": 152,
   "metadata": {},
   "outputs": [],
   "source": [
    "import re, string, timeit\n",
    "def len_text_no_punc(s):\n",
    "    string_w = s.translate(str.maketrans('','',string.punctuation)) \n",
    "    return len(string_w)"
   ]
  },
  {
   "cell_type": "markdown",
   "metadata": {},
   "source": [
    "#### Step 4: Split the data into train and test sub-datasets."
   ]
  },
  {
   "cell_type": "code",
   "execution_count": 153,
   "metadata": {},
   "outputs": [
    {
     "data": {
      "text/html": [
       "<div>\n",
       "<style scoped>\n",
       "    .dataframe tbody tr th:only-of-type {\n",
       "        vertical-align: middle;\n",
       "    }\n",
       "\n",
       "    .dataframe tbody tr th {\n",
       "        vertical-align: top;\n",
       "    }\n",
       "\n",
       "    .dataframe thead th {\n",
       "        text-align: right;\n",
       "    }\n",
       "</style>\n",
       "<table border=\"1\" class=\"dataframe\">\n",
       "  <thead>\n",
       "    <tr style=\"text-align: right;\">\n",
       "      <th></th>\n",
       "      <th>Text</th>\n",
       "      <th>Topic</th>\n",
       "      <th>Class</th>\n",
       "      <th>lengh_text</th>\n",
       "    </tr>\n",
       "  </thead>\n",
       "  <tbody>\n",
       "    <tr>\n",
       "      <th>0</th>\n",
       "      <td>\\n\\nکراچی ( آن لائن ) حکومت نے عوام کو باہرکری...</td>\n",
       "      <td>bus</td>\n",
       "      <td>0</td>\n",
       "      <td>466</td>\n",
       "    </tr>\n",
       "    <tr>\n",
       "      <th>1</th>\n",
       "      <td>سٹٹگارٹ (اُردو پوائنٹ اخبارتازہ ترین 0 دسمبر0ء...</td>\n",
       "      <td>bus</td>\n",
       "      <td>1</td>\n",
       "      <td>493</td>\n",
       "    </tr>\n",
       "    <tr>\n",
       "      <th>2</th>\n",
       "      <td>\\nسٹٹگارٹ (اُردو پوائنٹ اخبارتازہ ترین 0 دسمبر...</td>\n",
       "      <td>bus</td>\n",
       "      <td>0</td>\n",
       "      <td>500</td>\n",
       "    </tr>\n",
       "    <tr>\n",
       "      <th>3</th>\n",
       "      <td>اسلام آباد: عالمی مالیاتی کریڈٹ ریٹنگ ایجنسی ...</td>\n",
       "      <td>bus</td>\n",
       "      <td>1</td>\n",
       "      <td>1262</td>\n",
       "    </tr>\n",
       "    <tr>\n",
       "      <th>4</th>\n",
       "      <td>واشنگٹن سافٹ ویئر بنانے والی دنیا کی سب سے بڑی...</td>\n",
       "      <td>bus</td>\n",
       "      <td>1</td>\n",
       "      <td>1501</td>\n",
       "    </tr>\n",
       "    <tr>\n",
       "      <th>5</th>\n",
       "      <td>واشنگٹن سافٹ ویئر بنانے والی دنیا کی سب سے بڑی...</td>\n",
       "      <td>bus</td>\n",
       "      <td>0</td>\n",
       "      <td>1632</td>\n",
       "    </tr>\n",
       "    <tr>\n",
       "      <th>6</th>\n",
       "      <td>امریکا کی وزرات خزانہ نے مشکوک زرِ مبادلہ کی پ...</td>\n",
       "      <td>bus</td>\n",
       "      <td>1</td>\n",
       "      <td>1844</td>\n",
       "    </tr>\n",
       "    <tr>\n",
       "      <th>7</th>\n",
       "      <td>\\nامریکا کی وزرات خزانہ نے مشکوک زرِ مبادلہ کی...</td>\n",
       "      <td>bus</td>\n",
       "      <td>0</td>\n",
       "      <td>1872</td>\n",
       "    </tr>\n",
       "    <tr>\n",
       "      <th>8</th>\n",
       "      <td>پاکستان کے وزیراعظم عمران خان سعودی عرب کے دار...</td>\n",
       "      <td>bus</td>\n",
       "      <td>1</td>\n",
       "      <td>2111</td>\n",
       "    </tr>\n",
       "    <tr>\n",
       "      <th>9</th>\n",
       "      <td>\\n\\n\\n عمران خان نے وزارتِ عظمیٰ کا عہدہ سنبھا...</td>\n",
       "      <td>bus</td>\n",
       "      <td>0</td>\n",
       "      <td>2492</td>\n",
       "    </tr>\n",
       "  </tbody>\n",
       "</table>\n",
       "</div>"
      ],
      "text/plain": [
       "                                                Text Topic  Class  lengh_text\n",
       "0  \\n\\nکراچی ( آن لائن ) حکومت نے عوام کو باہرکری...   bus      0         466\n",
       "1  سٹٹگارٹ (اُردو پوائنٹ اخبارتازہ ترین 0 دسمبر0ء...   bus      1         493\n",
       "2  \\nسٹٹگارٹ (اُردو پوائنٹ اخبارتازہ ترین 0 دسمبر...   bus      0         500\n",
       "3  اسلام آباد: عالمی مالیاتی کریڈٹ ریٹنگ ایجنسی ...   bus      1        1262\n",
       "4  واشنگٹن سافٹ ویئر بنانے والی دنیا کی سب سے بڑی...   bus      1        1501\n",
       "5  واشنگٹن سافٹ ویئر بنانے والی دنیا کی سب سے بڑی...   bus      0        1632\n",
       "6  امریکا کی وزرات خزانہ نے مشکوک زرِ مبادلہ کی پ...   bus      1        1844\n",
       "7  \\nامریکا کی وزرات خزانہ نے مشکوک زرِ مبادلہ کی...   bus      0        1872\n",
       "8  پاکستان کے وزیراعظم عمران خان سعودی عرب کے دار...   bus      1        2111\n",
       "9  \\n\\n\\n عمران خان نے وزارتِ عظمیٰ کا عہدہ سنبھا...   bus      0        2492"
      ]
     },
     "execution_count": 153,
     "metadata": {},
     "output_type": "execute_result"
    }
   ],
   "source": [
    "# load train data\n",
    "train_real_news, train_real_news_topics = read_txt_files(sorted(Path('small_corpus\\\\Train\\\\Real\\\\').glob('*.txt')))\n",
    "train_fake_news, train_fake_news_topics = read_txt_files(sorted(Path('small_corpus\\\\Train\\\\Fake\\\\').glob('*.txt')))\n",
    "real = [1] * len(train_real_news_topics)\n",
    "fake = [0] * len(train_fake_news_topics)\n",
    "d = {'Text': train_real_news, 'Topic': train_real_news_topics,'Class':  real }\n",
    "df1 = pd.DataFrame(data=d)\n",
    "d = {'Text': train_fake_news, 'Topic': train_fake_news_topics,'Class': fake}\n",
    "df2 = pd.DataFrame(data=d)\n",
    "Train_data = pd.concat([df1,df2])\n",
    "#load test data\n",
    "real_news, real_news_topics = read_txt_files(sorted(Path('small_corpus\\\\Test\\\\Real\\\\').glob('*.txt')))\n",
    "fake_news, fake_news_topics = read_txt_files(sorted(Path('small_corpus\\\\Test\\\\Fake\\\\').glob('*.txt')))\n",
    "real = [1] * len(real_news_topics)\n",
    "fake = [0] * len(fake_news_topics)\n",
    "d = {'Text': real_news, 'Topic': real_news_topics,'Class': real}\n",
    "df1 = pd.DataFrame(data=d)\n",
    "d = {'Text': fake_news, 'Topic': fake_news_topics,'Class': fake}\n",
    "df2 = pd.DataFrame(data=d)\n",
    "Test_data = pd.concat([df1,df2])\n",
    "df = pd.concat([Train_data,Test_data])\n",
    "df['lengh_text'] = df['Text'].apply(len_text_no_punc)\n",
    "df = df.sort_values(by=['lengh_text'], ascending=True)\n",
    "df = df.reset_index(drop=True)\n",
    "df = df[df['lengh_text']>=6] # only keep text with len more than 6 because n char\n",
    "df.head(10)"
   ]
  },
  {
   "cell_type": "code",
   "execution_count": 154,
   "metadata": {},
   "outputs": [
    {
     "data": {
      "text/html": [
       "<div>\n",
       "<style scoped>\n",
       "    .dataframe tbody tr th:only-of-type {\n",
       "        vertical-align: middle;\n",
       "    }\n",
       "\n",
       "    .dataframe tbody tr th {\n",
       "        vertical-align: top;\n",
       "    }\n",
       "\n",
       "    .dataframe thead th {\n",
       "        text-align: right;\n",
       "    }\n",
       "</style>\n",
       "<table border=\"1\" class=\"dataframe\">\n",
       "  <thead>\n",
       "    <tr style=\"text-align: right;\">\n",
       "      <th></th>\n",
       "      <th>Text</th>\n",
       "      <th>lengh_text</th>\n",
       "      <th>bus</th>\n",
       "      <th>Class</th>\n",
       "    </tr>\n",
       "  </thead>\n",
       "  <tbody>\n",
       "    <tr>\n",
       "      <th>0</th>\n",
       "      <td>\\n\\nکراچی ( آن لائن ) حکومت نے عوام کو باہرکری...</td>\n",
       "      <td>466</td>\n",
       "      <td>1</td>\n",
       "      <td>0</td>\n",
       "    </tr>\n",
       "    <tr>\n",
       "      <th>1</th>\n",
       "      <td>سٹٹگارٹ (اُردو پوائنٹ اخبارتازہ ترین 0 دسمبر0ء...</td>\n",
       "      <td>493</td>\n",
       "      <td>1</td>\n",
       "      <td>1</td>\n",
       "    </tr>\n",
       "    <tr>\n",
       "      <th>2</th>\n",
       "      <td>\\nسٹٹگارٹ (اُردو پوائنٹ اخبارتازہ ترین 0 دسمبر...</td>\n",
       "      <td>500</td>\n",
       "      <td>1</td>\n",
       "      <td>0</td>\n",
       "    </tr>\n",
       "    <tr>\n",
       "      <th>3</th>\n",
       "      <td>اسلام آباد: عالمی مالیاتی کریڈٹ ریٹنگ ایجنسی ...</td>\n",
       "      <td>1262</td>\n",
       "      <td>1</td>\n",
       "      <td>1</td>\n",
       "    </tr>\n",
       "    <tr>\n",
       "      <th>4</th>\n",
       "      <td>واشنگٹن سافٹ ویئر بنانے والی دنیا کی سب سے بڑی...</td>\n",
       "      <td>1501</td>\n",
       "      <td>1</td>\n",
       "      <td>1</td>\n",
       "    </tr>\n",
       "    <tr>\n",
       "      <th>5</th>\n",
       "      <td>واشنگٹن سافٹ ویئر بنانے والی دنیا کی سب سے بڑی...</td>\n",
       "      <td>1632</td>\n",
       "      <td>1</td>\n",
       "      <td>0</td>\n",
       "    </tr>\n",
       "    <tr>\n",
       "      <th>6</th>\n",
       "      <td>امریکا کی وزرات خزانہ نے مشکوک زرِ مبادلہ کی پ...</td>\n",
       "      <td>1844</td>\n",
       "      <td>1</td>\n",
       "      <td>1</td>\n",
       "    </tr>\n",
       "    <tr>\n",
       "      <th>7</th>\n",
       "      <td>\\nامریکا کی وزرات خزانہ نے مشکوک زرِ مبادلہ کی...</td>\n",
       "      <td>1872</td>\n",
       "      <td>1</td>\n",
       "      <td>0</td>\n",
       "    </tr>\n",
       "    <tr>\n",
       "      <th>8</th>\n",
       "      <td>پاکستان کے وزیراعظم عمران خان سعودی عرب کے دار...</td>\n",
       "      <td>2111</td>\n",
       "      <td>1</td>\n",
       "      <td>1</td>\n",
       "    </tr>\n",
       "    <tr>\n",
       "      <th>9</th>\n",
       "      <td>\\n\\n\\n عمران خان نے وزارتِ عظمیٰ کا عہدہ سنبھا...</td>\n",
       "      <td>2492</td>\n",
       "      <td>1</td>\n",
       "      <td>0</td>\n",
       "    </tr>\n",
       "  </tbody>\n",
       "</table>\n",
       "</div>"
      ],
      "text/plain": [
       "                                                Text  lengh_text  bus  Class\n",
       "0  \\n\\nکراچی ( آن لائن ) حکومت نے عوام کو باہرکری...         466    1      0\n",
       "1  سٹٹگارٹ (اُردو پوائنٹ اخبارتازہ ترین 0 دسمبر0ء...         493    1      1\n",
       "2  \\nسٹٹگارٹ (اُردو پوائنٹ اخبارتازہ ترین 0 دسمبر...         500    1      0\n",
       "3  اسلام آباد: عالمی مالیاتی کریڈٹ ریٹنگ ایجنسی ...        1262    1      1\n",
       "4  واشنگٹن سافٹ ویئر بنانے والی دنیا کی سب سے بڑی...        1501    1      1\n",
       "5  واشنگٹن سافٹ ویئر بنانے والی دنیا کی سب سے بڑی...        1632    1      0\n",
       "6  امریکا کی وزرات خزانہ نے مشکوک زرِ مبادلہ کی پ...        1844    1      1\n",
       "7  \\nامریکا کی وزرات خزانہ نے مشکوک زرِ مبادلہ کی...        1872    1      0\n",
       "8  پاکستان کے وزیراعظم عمران خان سعودی عرب کے دار...        2111    1      1\n",
       "9  \\n\\n\\n عمران خان نے وزارتِ عظمیٰ کا عہدہ سنبھا...        2492    1      0"
      ]
     },
     "execution_count": 154,
     "metadata": {},
     "output_type": "execute_result"
    }
   ],
   "source": [
    "df = pd.concat([df, pd.get_dummies(df['Topic'])], axis=1)  \n",
    "classe = df['Class']\n",
    "df = df.drop([\"Class\",\"Topic\"], axis=1)\n",
    "df = pd.concat([df,classe], axis=1)\n",
    "df.head(10)"
   ]
  },
  {
   "cell_type": "code",
   "execution_count": 155,
   "metadata": {},
   "outputs": [
    {
     "data": {
      "text/html": [
       "<div>\n",
       "<style scoped>\n",
       "    .dataframe tbody tr th:only-of-type {\n",
       "        vertical-align: middle;\n",
       "    }\n",
       "\n",
       "    .dataframe tbody tr th {\n",
       "        vertical-align: top;\n",
       "    }\n",
       "\n",
       "    .dataframe thead th {\n",
       "        text-align: right;\n",
       "    }\n",
       "</style>\n",
       "<table border=\"1\" class=\"dataframe\">\n",
       "  <thead>\n",
       "    <tr style=\"text-align: right;\">\n",
       "      <th></th>\n",
       "      <th>Text</th>\n",
       "      <th>lengh_text</th>\n",
       "      <th>bus</th>\n",
       "      <th>Class</th>\n",
       "    </tr>\n",
       "  </thead>\n",
       "  <tbody>\n",
       "    <tr>\n",
       "      <th>0</th>\n",
       "      <td>\\n\\nکراچی ( آن لائن ) حکومت نے عوام کو باہرکری...</td>\n",
       "      <td>-1.100333</td>\n",
       "      <td>1</td>\n",
       "      <td>0</td>\n",
       "    </tr>\n",
       "    <tr>\n",
       "      <th>1</th>\n",
       "      <td>سٹٹگارٹ (اُردو پوائنٹ اخبارتازہ ترین 0 دسمبر0ء...</td>\n",
       "      <td>-1.080103</td>\n",
       "      <td>1</td>\n",
       "      <td>1</td>\n",
       "    </tr>\n",
       "    <tr>\n",
       "      <th>2</th>\n",
       "      <td>\\nسٹٹگارٹ (اُردو پوائنٹ اخبارتازہ ترین 0 دسمبر...</td>\n",
       "      <td>-1.074859</td>\n",
       "      <td>1</td>\n",
       "      <td>0</td>\n",
       "    </tr>\n",
       "    <tr>\n",
       "      <th>3</th>\n",
       "      <td>اسلام آباد: عالمی مالیاتی کریڈٹ ریٹنگ ایجنسی ...</td>\n",
       "      <td>-0.503932</td>\n",
       "      <td>1</td>\n",
       "      <td>1</td>\n",
       "    </tr>\n",
       "    <tr>\n",
       "      <th>4</th>\n",
       "      <td>واشنگٹن سافٹ ویئر بنانے والی دنیا کی سب سے بڑی...</td>\n",
       "      <td>-0.324861</td>\n",
       "      <td>1</td>\n",
       "      <td>1</td>\n",
       "    </tr>\n",
       "    <tr>\n",
       "      <th>5</th>\n",
       "      <td>واشنگٹن سافٹ ویئر بنانے والی دنیا کی سب سے بڑی...</td>\n",
       "      <td>-0.226710</td>\n",
       "      <td>1</td>\n",
       "      <td>0</td>\n",
       "    </tr>\n",
       "    <tr>\n",
       "      <th>6</th>\n",
       "      <td>امریکا کی وزرات خزانہ نے مشکوک زرِ مبادلہ کی پ...</td>\n",
       "      <td>-0.067869</td>\n",
       "      <td>1</td>\n",
       "      <td>1</td>\n",
       "    </tr>\n",
       "    <tr>\n",
       "      <th>7</th>\n",
       "      <td>\\nامریکا کی وزرات خزانہ نے مشکوک زرِ مبادلہ کی...</td>\n",
       "      <td>-0.046890</td>\n",
       "      <td>1</td>\n",
       "      <td>0</td>\n",
       "    </tr>\n",
       "    <tr>\n",
       "      <th>8</th>\n",
       "      <td>پاکستان کے وزیراعظم عمران خان سعودی عرب کے دار...</td>\n",
       "      <td>0.132180</td>\n",
       "      <td>1</td>\n",
       "      <td>1</td>\n",
       "    </tr>\n",
       "    <tr>\n",
       "      <th>9</th>\n",
       "      <td>\\n\\n\\n عمران خان نے وزارتِ عظمیٰ کا عہدہ سنبھا...</td>\n",
       "      <td>0.417643</td>\n",
       "      <td>1</td>\n",
       "      <td>0</td>\n",
       "    </tr>\n",
       "  </tbody>\n",
       "</table>\n",
       "</div>"
      ],
      "text/plain": [
       "                                                Text  lengh_text  bus  Class\n",
       "0  \\n\\nکراچی ( آن لائن ) حکومت نے عوام کو باہرکری...   -1.100333    1      0\n",
       "1  سٹٹگارٹ (اُردو پوائنٹ اخبارتازہ ترین 0 دسمبر0ء...   -1.080103    1      1\n",
       "2  \\nسٹٹگارٹ (اُردو پوائنٹ اخبارتازہ ترین 0 دسمبر...   -1.074859    1      0\n",
       "3  اسلام آباد: عالمی مالیاتی کریڈٹ ریٹنگ ایجنسی ...   -0.503932    1      1\n",
       "4  واشنگٹن سافٹ ویئر بنانے والی دنیا کی سب سے بڑی...   -0.324861    1      1\n",
       "5  واشنگٹن سافٹ ویئر بنانے والی دنیا کی سب سے بڑی...   -0.226710    1      0\n",
       "6  امریکا کی وزرات خزانہ نے مشکوک زرِ مبادلہ کی پ...   -0.067869    1      1\n",
       "7  \\nامریکا کی وزرات خزانہ نے مشکوک زرِ مبادلہ کی...   -0.046890    1      0\n",
       "8  پاکستان کے وزیراعظم عمران خان سعودی عرب کے دار...    0.132180    1      1\n",
       "9  \\n\\n\\n عمران خان نے وزارتِ عظمیٰ کا عہدہ سنبھا...    0.417643    1      0"
      ]
     },
     "execution_count": 155,
     "metadata": {},
     "output_type": "execute_result"
    }
   ],
   "source": [
    "x = df[['lengh_text']].values.astype(float)\n",
    "min_max_scaler = StandardScaler()\n",
    "df['lengh_text'] = min_max_scaler.fit_transform(x)\n",
    "df.head(10)"
   ]
  },
  {
   "cell_type": "code",
   "execution_count": 156,
   "metadata": {},
   "outputs": [
    {
     "data": {
      "text/html": [
       "<div>\n",
       "<style scoped>\n",
       "    .dataframe tbody tr th:only-of-type {\n",
       "        vertical-align: middle;\n",
       "    }\n",
       "\n",
       "    .dataframe tbody tr th {\n",
       "        vertical-align: top;\n",
       "    }\n",
       "\n",
       "    .dataframe thead th {\n",
       "        text-align: right;\n",
       "    }\n",
       "</style>\n",
       "<table border=\"1\" class=\"dataframe\">\n",
       "  <thead>\n",
       "    <tr style=\"text-align: right;\">\n",
       "      <th></th>\n",
       "      <th>lengh_text</th>\n",
       "    </tr>\n",
       "  </thead>\n",
       "  <tbody>\n",
       "    <tr>\n",
       "      <th>0</th>\n",
       "      <td>-1.100333</td>\n",
       "    </tr>\n",
       "    <tr>\n",
       "      <th>1</th>\n",
       "      <td>-1.080103</td>\n",
       "    </tr>\n",
       "    <tr>\n",
       "      <th>2</th>\n",
       "      <td>-1.074859</td>\n",
       "    </tr>\n",
       "    <tr>\n",
       "      <th>3</th>\n",
       "      <td>-0.503932</td>\n",
       "    </tr>\n",
       "    <tr>\n",
       "      <th>4</th>\n",
       "      <td>-0.324861</td>\n",
       "    </tr>\n",
       "    <tr>\n",
       "      <th>5</th>\n",
       "      <td>-0.226710</td>\n",
       "    </tr>\n",
       "    <tr>\n",
       "      <th>6</th>\n",
       "      <td>-0.067869</td>\n",
       "    </tr>\n",
       "    <tr>\n",
       "      <th>7</th>\n",
       "      <td>-0.046890</td>\n",
       "    </tr>\n",
       "    <tr>\n",
       "      <th>8</th>\n",
       "      <td>0.132180</td>\n",
       "    </tr>\n",
       "    <tr>\n",
       "      <th>9</th>\n",
       "      <td>0.417643</td>\n",
       "    </tr>\n",
       "    <tr>\n",
       "      <th>10</th>\n",
       "      <td>1.521286</td>\n",
       "    </tr>\n",
       "    <tr>\n",
       "      <th>11</th>\n",
       "      <td>2.354449</td>\n",
       "    </tr>\n",
       "  </tbody>\n",
       "</table>\n",
       "</div>"
      ],
      "text/plain": [
       "    lengh_text\n",
       "0    -1.100333\n",
       "1    -1.080103\n",
       "2    -1.074859\n",
       "3    -0.503932\n",
       "4    -0.324861\n",
       "5    -0.226710\n",
       "6    -0.067869\n",
       "7    -0.046890\n",
       "8     0.132180\n",
       "9     0.417643\n",
       "10    1.521286\n",
       "11    2.354449"
      ]
     },
     "execution_count": 156,
     "metadata": {},
     "output_type": "execute_result"
    }
   ],
   "source": [
    "data=df.loc[:, df.columns == 'lengh_text']\n",
    "data"
   ]
  },
  {
   "cell_type": "code",
   "execution_count": 157,
   "metadata": {},
   "outputs": [
    {
     "data": {
      "text/html": [
       "<div>\n",
       "<style scoped>\n",
       "    .dataframe tbody tr th:only-of-type {\n",
       "        vertical-align: middle;\n",
       "    }\n",
       "\n",
       "    .dataframe tbody tr th {\n",
       "        vertical-align: top;\n",
       "    }\n",
       "\n",
       "    .dataframe thead th {\n",
       "        text-align: right;\n",
       "    }\n",
       "</style>\n",
       "<table border=\"1\" class=\"dataframe\">\n",
       "  <thead>\n",
       "    <tr style=\"text-align: right;\">\n",
       "      <th></th>\n",
       "      <th>Text</th>\n",
       "      <th>lengh_text</th>\n",
       "      <th>bus</th>\n",
       "    </tr>\n",
       "  </thead>\n",
       "  <tbody>\n",
       "    <tr>\n",
       "      <th>9</th>\n",
       "      <td>تصویر کے کاپی رائٹ AFP\\n\\nپاکستانی وزیرِ خارجہ...</td>\n",
       "      <td>2.160839</td>\n",
       "      <td>1</td>\n",
       "    </tr>\n",
       "    <tr>\n",
       "      <th>1</th>\n",
       "      <td>\\nسٹٹگارٹ (اُردو پوائنٹ اخبارتازہ ترین 0 دسمبر...</td>\n",
       "      <td>-1.213491</td>\n",
       "      <td>1</td>\n",
       "    </tr>\n",
       "    <tr>\n",
       "      <th>6</th>\n",
       "      <td>پاکستان کے وزیراعظم عمران خان سعودی عرب کے دار...</td>\n",
       "      <td>-0.025803</td>\n",
       "      <td>1</td>\n",
       "    </tr>\n",
       "    <tr>\n",
       "      <th>7</th>\n",
       "      <td>\\n\\n\\n عمران خان نے وزارتِ عظمیٰ کا عہدہ سنبھا...</td>\n",
       "      <td>0.255084</td>\n",
       "      <td>1</td>\n",
       "    </tr>\n",
       "    <tr>\n",
       "      <th>3</th>\n",
       "      <td>واشنگٹن سافٹ ویئر بنانے والی دنیا کی سب سے بڑی...</td>\n",
       "      <td>-0.378939</td>\n",
       "      <td>1</td>\n",
       "    </tr>\n",
       "  </tbody>\n",
       "</table>\n",
       "</div>"
      ],
      "text/plain": [
       "                                                Text  lengh_text  bus\n",
       "9  تصویر کے کاپی رائٹ AFP\\n\\nپاکستانی وزیرِ خارجہ...    2.160839    1\n",
       "1  \\nسٹٹگارٹ (اُردو پوائنٹ اخبارتازہ ترین 0 دسمبر...   -1.213491    1\n",
       "6  پاکستان کے وزیراعظم عمران خان سعودی عرب کے دار...   -0.025803    1\n",
       "7  \\n\\n\\n عمران خان نے وزارتِ عظمیٰ کا عہدہ سنبھا...    0.255084    1\n",
       "3  واشنگٹن سافٹ ویئر بنانے والی دنیا کی سب سے بڑی...   -0.378939    1"
      ]
     },
     "execution_count": 157,
     "metadata": {},
     "output_type": "execute_result"
    }
   ],
   "source": [
    "TrainX, TestX, labels_for_training, labels_for_testing = train_test_split(df.loc[:, df.columns == 'lengh_text'], df.loc[:, df.columns == 'Class'], test_size = 0.40, random_state = 0)\n",
    "xTrain.head()"
   ]
  },
  {
   "cell_type": "code",
   "execution_count": 158,
   "metadata": {},
   "outputs": [
    {
     "data": {
      "text/html": [
       "<div>\n",
       "<style scoped>\n",
       "    .dataframe tbody tr th:only-of-type {\n",
       "        vertical-align: middle;\n",
       "    }\n",
       "\n",
       "    .dataframe tbody tr th {\n",
       "        vertical-align: top;\n",
       "    }\n",
       "\n",
       "    .dataframe thead th {\n",
       "        text-align: right;\n",
       "    }\n",
       "</style>\n",
       "<table border=\"1\" class=\"dataframe\">\n",
       "  <thead>\n",
       "    <tr style=\"text-align: right;\">\n",
       "      <th></th>\n",
       "      <th>Class</th>\n",
       "    </tr>\n",
       "  </thead>\n",
       "  <tbody>\n",
       "    <tr>\n",
       "      <th>8</th>\n",
       "      <td>1</td>\n",
       "    </tr>\n",
       "    <tr>\n",
       "      <th>1</th>\n",
       "      <td>1</td>\n",
       "    </tr>\n",
       "    <tr>\n",
       "      <th>7</th>\n",
       "      <td>0</td>\n",
       "    </tr>\n",
       "    <tr>\n",
       "      <th>9</th>\n",
       "      <td>0</td>\n",
       "    </tr>\n",
       "    <tr>\n",
       "      <th>3</th>\n",
       "      <td>1</td>\n",
       "    </tr>\n",
       "  </tbody>\n",
       "</table>\n",
       "</div>"
      ],
      "text/plain": [
       "   Class\n",
       "8      1\n",
       "1      1\n",
       "7      0\n",
       "9      0\n",
       "3      1"
      ]
     },
     "execution_count": 158,
     "metadata": {},
     "output_type": "execute_result"
    }
   ],
   "source": [
    "labels_for_training.head()"
   ]
  },
  {
   "cell_type": "markdown",
   "metadata": {},
   "source": [
    "### Step 5: Fit a model on the train data."
   ]
  },
  {
   "cell_type": "code",
   "execution_count": 159,
   "metadata": {},
   "outputs": [
    {
     "name": "stderr",
     "output_type": "stream",
     "text": [
      "C:\\ProgramData\\Anaconda3\\lib\\site-packages\\sklearn\\utils\\validation.py:724: DataConversionWarning: A column-vector y was passed when a 1d array was expected. Please change the shape of y to (n_samples, ), for example using ravel().\n",
      "  y = column_or_1d(y, warn=True)\n"
     ]
    },
    {
     "data": {
      "text/plain": [
       "AdaBoostClassifier(algorithm='SAMME.R', base_estimator=None, learning_rate=0.1,\n",
       "                   n_estimators=100, random_state=0)"
      ]
     },
     "execution_count": 159,
     "metadata": {},
     "output_type": "execute_result"
    }
   ],
   "source": [
    "model = AdaBoostClassifier(base_estimator=None, n_estimators=100, learning_rate=.1,  random_state=0)\n",
    "model.fit(TrainX, labels_for_training)"
   ]
  },
  {
   "cell_type": "markdown",
   "metadata": {},
   "source": [
    "#### Step 6: Predict probabilities for the test data."
   ]
  },
  {
   "cell_type": "code",
   "execution_count": 160,
   "metadata": {},
   "outputs": [
    {
     "data": {
      "text/plain": [
       "array([[0.62257449, 0.37742551],\n",
       "       [0.66216383, 0.33783617],\n",
       "       [0.62257449, 0.37742551],\n",
       "       [0.66216383, 0.33783617],\n",
       "       [0.35945266, 0.64054734]])"
      ]
     },
     "execution_count": 160,
     "metadata": {},
     "output_type": "execute_result"
    }
   ],
   "source": [
    "probs = model.predict_proba(TestX)\n",
    "probs"
   ]
  },
  {
   "cell_type": "code",
   "execution_count": 161,
   "metadata": {},
   "outputs": [
    {
     "data": {
      "text/html": [
       "<div>\n",
       "<style scoped>\n",
       "    .dataframe tbody tr th:only-of-type {\n",
       "        vertical-align: middle;\n",
       "    }\n",
       "\n",
       "    .dataframe tbody tr th {\n",
       "        vertical-align: top;\n",
       "    }\n",
       "\n",
       "    .dataframe thead th {\n",
       "        text-align: right;\n",
       "    }\n",
       "</style>\n",
       "<table border=\"1\" class=\"dataframe\">\n",
       "  <thead>\n",
       "    <tr style=\"text-align: right;\">\n",
       "      <th></th>\n",
       "      <th>Class</th>\n",
       "    </tr>\n",
       "  </thead>\n",
       "  <tbody>\n",
       "    <tr>\n",
       "      <th>6</th>\n",
       "      <td>1</td>\n",
       "    </tr>\n",
       "    <tr>\n",
       "      <th>11</th>\n",
       "      <td>1</td>\n",
       "    </tr>\n",
       "    <tr>\n",
       "      <th>4</th>\n",
       "      <td>1</td>\n",
       "    </tr>\n",
       "    <tr>\n",
       "      <th>10</th>\n",
       "      <td>1</td>\n",
       "    </tr>\n",
       "    <tr>\n",
       "      <th>2</th>\n",
       "      <td>0</td>\n",
       "    </tr>\n",
       "  </tbody>\n",
       "</table>\n",
       "</div>"
      ],
      "text/plain": [
       "    Class\n",
       "6       1\n",
       "11      1\n",
       "4       1\n",
       "10      1\n",
       "2       0"
      ]
     },
     "execution_count": 161,
     "metadata": {},
     "output_type": "execute_result"
    }
   ],
   "source": [
    "labels_for_testing"
   ]
  },
  {
   "cell_type": "markdown",
   "metadata": {},
   "source": [
    "#### Step 7: Keep Probabilities of the positive class only."
   ]
  },
  {
   "cell_type": "code",
   "execution_count": 176,
   "metadata": {},
   "outputs": [
    {
     "data": {
      "text/plain": [
       "array([0.37742551, 0.33783617, 0.37742551, 0.33783617, 0.64054734])"
      ]
     },
     "execution_count": 176,
     "metadata": {},
     "output_type": "execute_result"
    }
   ],
   "source": [
    "probss =probs[:,1]\n",
    "probss"
   ]
  },
  {
   "cell_type": "code",
   "execution_count": 177,
   "metadata": {},
   "outputs": [
    {
     "data": {
      "text/html": [
       "<div>\n",
       "<style scoped>\n",
       "    .dataframe tbody tr th:only-of-type {\n",
       "        vertical-align: middle;\n",
       "    }\n",
       "\n",
       "    .dataframe tbody tr th {\n",
       "        vertical-align: top;\n",
       "    }\n",
       "\n",
       "    .dataframe thead th {\n",
       "        text-align: right;\n",
       "    }\n",
       "</style>\n",
       "<table border=\"1\" class=\"dataframe\">\n",
       "  <thead>\n",
       "    <tr style=\"text-align: right;\">\n",
       "      <th></th>\n",
       "      <th>Class</th>\n",
       "    </tr>\n",
       "  </thead>\n",
       "  <tbody>\n",
       "    <tr>\n",
       "      <th>6</th>\n",
       "      <td>1</td>\n",
       "    </tr>\n",
       "    <tr>\n",
       "      <th>11</th>\n",
       "      <td>1</td>\n",
       "    </tr>\n",
       "    <tr>\n",
       "      <th>4</th>\n",
       "      <td>1</td>\n",
       "    </tr>\n",
       "    <tr>\n",
       "      <th>10</th>\n",
       "      <td>1</td>\n",
       "    </tr>\n",
       "    <tr>\n",
       "      <th>2</th>\n",
       "      <td>0</td>\n",
       "    </tr>\n",
       "  </tbody>\n",
       "</table>\n",
       "</div>"
      ],
      "text/plain": [
       "    Class\n",
       "6       1\n",
       "11      1\n",
       "4       1\n",
       "10      1\n",
       "2       0"
      ]
     },
     "execution_count": 177,
     "metadata": {},
     "output_type": "execute_result"
    }
   ],
   "source": [
    "labels_for_testing"
   ]
  },
  {
   "cell_type": "markdown",
   "metadata": {},
   "source": [
    "### Step 8: Compute the AUC Score"
   ]
  },
  {
   "cell_type": "code",
   "execution_count": 178,
   "metadata": {},
   "outputs": [
    {
     "name": "stdout",
     "output_type": "stream",
     "text": [
      "AUC: 0.00\n"
     ]
    }
   ],
   "source": [
    "auc = roc_auc_score(labels_for_testing, probss)\n",
    "print('AUC: %.2f' % auc)"
   ]
  },
  {
   "cell_type": "markdown",
   "metadata": {},
   "source": [
    "### Step 9: Get the ROC Curve."
   ]
  },
  {
   "cell_type": "code",
   "execution_count": 179,
   "metadata": {},
   "outputs": [],
   "source": [
    "fpr, tpr, thresholds = roc_curve(labels_for_testing, probss)"
   ]
  },
  {
   "cell_type": "code",
   "execution_count": 180,
   "metadata": {},
   "outputs": [
    {
     "data": {
      "text/plain": [
       "(array([0., 1., 1.]),\n",
       " array([0., 0., 1.]),\n",
       " array([1.64054734, 0.64054734, 0.33783617]))"
      ]
     },
     "execution_count": 180,
     "metadata": {},
     "output_type": "execute_result"
    }
   ],
   "source": [
    "fpr, tpr, thresholds"
   ]
  },
  {
   "cell_type": "markdown",
   "metadata": {},
   "source": [
    "#### Step 10: Plot ROC Curve using our defined function"
   ]
  },
  {
   "cell_type": "code",
   "execution_count": 181,
   "metadata": {},
   "outputs": [
    {
     "data": {
      "image/png": "[encoded data removed]",
      "text/plain": [
       "<Figure size 432x288 with 1 Axes>"
      ]
     },
     "metadata": {
      "needs_background": "light"
     },
     "output_type": "display_data"
    }
   ],
   "source": [
    "plot_roc_curve(fpr, tpr)"
   ]
  }
 ],
 "metadata": {
  "kernelspec": {
   "display_name": "Python 3",
   "language": "python",
   "name": "python3"
  },
  "language_info": {
   "codemirror_mode": {
    "name": "ipython",
    "version": 3
   },
   "file_extension": ".py",
   "mimetype": "text/x-python",
   "name": "python",
   "nbconvert_exporter": "python",
   "pygments_lexer": "ipython3",
   "version": "3.7.3"
  }
 },
 "nbformat": 4,
 "nbformat_minor": 2
}
