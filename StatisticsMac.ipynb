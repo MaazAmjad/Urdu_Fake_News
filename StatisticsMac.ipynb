{
 "cells": [
  {
   "cell_type": "code",
   "execution_count": 64,
   "metadata": {},
   "outputs": [],
   "source": [
    "import pandas as pd\n",
    "import glob, re\n",
    "from __future__ import division"
   ]
  },
  {
   "cell_type": "code",
   "execution_count": 65,
   "metadata": {},
   "outputs": [],
   "source": [
    "def openFiles (path):\n",
    "    files = sorted(glob.glob(path+'*.txt'))\n",
    "    \n",
    "    data=[]\n",
    "    topic=[]\n",
    "    Business=[]\n",
    "    Health=[]\n",
    "    Showbiz=[]\n",
    "    Sports=[]\n",
    "    Technology=[]\n",
    "    \n",
    "    for i,file_path in enumerate(files):\n",
    "         with open(file_path,'r') as infile:\n",
    "            text=infile.read()\n",
    "            data.append(text)\n",
    "            file_topic=''.join(re.findall('[A-Za-z]',file_path.split('/')[3].split('.')[0]))\n",
    "            if file_topic == 'bus':\n",
    "                Business.append(text)\n",
    "            elif file_topic == 'hlth':\n",
    "                Health.append(text)\n",
    "            elif file_topic == 'sbz':\n",
    "                Showbiz.append(text)\n",
    "            elif file_topic == 'sp':\n",
    "                Sports.append(text)\n",
    "            else:\n",
    "                Technology.append(text)\n",
    "                \n",
    "    return Business, Health, Showbiz, Sports, Technology, data"
   ]
  },
  {
   "cell_type": "code",
   "execution_count": 66,
   "metadata": {},
   "outputs": [],
   "source": [
    "def load_diccionary(ruta):\n",
    "    terms = set()#Dictionary of slangs\n",
    "    try:\n",
    "        tmp = open(ruta, \"r\")     \n",
    "        while True :\n",
    "            linea = tmp.readline()                                                                                   \n",
    "            #linea = to_unicode(linea) \n",
    "            if (not linea) or (linea == \"\"):                                                                               \n",
    "                break;                                                                                                      \n",
    "            linea = linea.rstrip()\n",
    "            terms.add(linea.lower())\n",
    "        return (terms)\n",
    "    except IOError as e:\n",
    "        print (\"Error: \"+ruta+\" I/O error({0}): {1}\".format(e.errno, e.strerror))\n",
    "        exit(1)"
   ]
  },
  {
   "cell_type": "code",
   "execution_count": 67,
   "metadata": {},
   "outputs": [],
   "source": [
    "def tokenization(dataset):\n",
    "    lista=[]\n",
    "    for documento in dataset:\n",
    "        doc=documento.lower()\n",
    "        tokens=doc.split()\n",
    "        lista.append(tokens)\n",
    "    return lista"
   ]
  },
  {
   "cell_type": "code",
   "execution_count": 68,
   "metadata": {},
   "outputs": [],
   "source": [
    "def remove_stopwords (dataset):\n",
    "    stop_words = load_diccionary('stop_words.txt')\n",
    "    lista=[]\n",
    "    for doc in dataset:\n",
    "        aux=[]\n",
    "        for word in doc: \n",
    "            if word not in stop_words:\n",
    "                aux.append(word)\n",
    "        lista.append(aux)\n",
    "    return lista"
   ]
  },
  {
   "cell_type": "code",
   "execution_count": 69,
   "metadata": {},
   "outputs": [],
   "source": [
    "def vocabulary (dataset):\n",
    "    data=tokenization(dataset)\n",
    "    #data=remove_stopwords(data)\n",
    "    aux=[]\n",
    "    for docx in data:\n",
    "        aux.extend(docx)\n",
    "    resultado=set(aux)\n",
    "    return resultado"
   ]
  },
  {
   "cell_type": "code",
   "execution_count": 139,
   "metadata": {},
   "outputs": [],
   "source": [
    "def comparison(docsX, docsY):\n",
    "    \n",
    "    tamX=len(docsX)\n",
    "    tamY=len(docsY)\n",
    "    \n",
    "    inter=docsX.intersection(docsY)\n",
    "    union=docsX.union(docsY)\n",
    "    tamC=len(inter)\n",
    "    tamUnion=len(union)\n",
    "    \n",
    "    tamTotal=tamX+tamY\n",
    "    \n",
    "    inter=tamC/tamUnion\n",
    "    \n",
    "    print (\"Real: \"+str(tamX))\n",
    "    print (\"Fake: \"+str(tamY))\n",
    "    print (\"Intersection: \"+str(tamC))\n",
    "    print (\"Union: \"+str(tamUnion))\n",
    "    print (\"Intersection (%): \"+str(inter*100))\n",
    "    "
   ]
  },
  {
   "cell_type": "code",
   "execution_count": 159,
   "metadata": {
    "scrolled": false
   },
   "outputs": [
    {
     "name": "stdout",
     "output_type": "stream",
     "text": [
      "set1 350\n",
      "set2 288\n",
      "Real: 13250\n",
      "Fake: 10115\n",
      "Intersection: 7511\n",
      "Union: 15854\n",
      "Intersection (%): 47.37605651570582\n"
     ]
    }
   ],
   "source": [
    "#Training Statistics\n",
    "    \n",
    "path_trueTrain= 'Corpus/Train/Real/'\n",
    "path_fakeTrain= \"Corpus/Train/Fake/\"\n",
    "\n",
    "BusinessT, HealthT, ShowbizT, SportsT, TechnologyT, dataT = openFiles(path_trueTrain)\n",
    "BusinessF, HealthF, ShowbizF, SportsF, TechnologyF, dataF = openFiles(path_fakeTrain)\n",
    "\n",
    "#_____________________________________________________________________\n",
    "\n",
    "#set_1=TechnologyT\n",
    "#set_2=TechnologyF\n",
    "#print ('Real:',len(set_1))\n",
    "#print ('Fake:',len(set_2))\n",
    "\n",
    "set_1=dataT #SportsT + SportsF\n",
    "set_2=dataF#TechnologyT + TechnologyF\n",
    "print ('set1',len(set_1))\n",
    "print ('set2',len(set_2))\n",
    "\n",
    "\n",
    "voc_set1=vocabulary(set_1)\n",
    "voc_set2=vocabulary(set_2)\n",
    "\n",
    "estad=comparison(voc_set1,voc_set2)    \n",
    " "
   ]
  },
  {
   "cell_type": "code",
   "execution_count": 160,
   "metadata": {},
   "outputs": [
    {
     "name": "stdout",
     "output_type": "stream",
     "text": [
      "Real: 150\n",
      "Fake: 112\n",
      "Real: 8848\n",
      "Fake: 6110\n",
      "Intersection: 4652\n",
      "Union: 10306\n",
      "Intersection (%): 45.13875412381137\n"
     ]
    }
   ],
   "source": [
    "# Testing Statistics\n",
    "path_trueTest = 'Corpus/Test/Real/'\n",
    "path_fakeTest = \"Corpus/Test/Fake/\"\n",
    "\n",
    "BusinessT, HealthT, ShowbizT, SportsT, TechnologyT, dataT = openFiles(path_trueTest)\n",
    "BusinessF, HealthF, ShowbizF, SportsF, TechnologyF, dataF = openFiles(path_fakeTest)\n",
    "\n",
    "#_____________________________________________________________________\n",
    "\n",
    "#set_1=TechnologyT\n",
    "#set_2=TechnologyF\n",
    "#print ('Real:',len(set_1))\n",
    "#print ('Fake:',len(set_2))\n",
    "\n",
    "set_1=dataT #SportsT + SportsF\n",
    "set_2=dataF#TechnologyT + TechnologyF\n",
    "print ('Real:',len(set_1))\n",
    "print ('Fake:',len(set_2))\n",
    "\n",
    "voc_set1=vocabulary(set_1)\n",
    "voc_set2=vocabulary(set_2)\n",
    "\n",
    "estad=comparison(voc_set1,voc_set2)    "
   ]
  },
  {
   "cell_type": "code",
   "execution_count": null,
   "metadata": {},
   "outputs": [],
   "source": []
  }
 ],
 "metadata": {
  "kernelspec": {
   "display_name": "Python 3",
   "language": "python",
   "name": "python3"
  },
  "language_info": {
   "codemirror_mode": {
    "name": "ipython",
    "version": 3
   },
   "file_extension": ".py",
   "mimetype": "text/x-python",
   "name": "python",
   "nbconvert_exporter": "python",
   "pygments_lexer": "ipython3",
   "version": "3.5.4"
  }
 },
 "nbformat": 4,
 "nbformat_minor": 2
}
