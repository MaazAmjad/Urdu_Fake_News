{
 "cells": [
  {
   "cell_type": "markdown",
   "metadata": {},
   "source": [
    "# Fake news detection"
   ]
  },
  {
   "cell_type": "code",
   "execution_count": 73,
   "metadata": {},
   "outputs": [],
   "source": [
    "import re\n",
    "import glob\n",
    "import numpy as np\n",
    "import os\n",
    "import json\n",
    "import argparse\n",
    "import time\n",
    "import codecs\n",
    "import string\n",
    "import codecs\n",
    "import random\n",
    "import scipy.sparse as sp\n",
    "\n",
    "from random import randrange\n",
    "from scipy.sparse import csr_matrix, csc_matrix, hstack, coo_matrix\n",
    "#from gensim.matutils import Scipy2Corpus, corpus2csc\n",
    "#from gensim.models.logentropy_model import LogEntropyModel\n",
    "from collections import defaultdict, Counter\n",
    "from sklearn.svm import LinearSVC\n",
    "from sklearn.svm import SVC\n",
    "from sklearn.feature_extraction.text import CountVectorizer\n",
    "from sklearn import preprocessing\n",
    "from sklearn.model_selection import cross_val_score\n",
    "from sklearn.model_selection import train_test_split\n",
    "from sklearn.naive_bayes import MultinomialNB\n",
    "from sklearn.naive_bayes import GaussianNB\n",
    "from sklearn.naive_bayes import BernoulliNB\n",
    "from sklearn.linear_model import LogisticRegression\n",
    "from sklearn.metrics import classification_report, f1_score, make_scorer\n",
    "from sklearn.feature_extraction.text import TfidfTransformer\n",
    "from nltk.corpus import stopwords as sw\n",
    "from string import punctuation"
   ]
  },
  {
   "cell_type": "markdown",
   "metadata": {},
   "source": [
    "## Feature extraction functions"
   ]
  },
  {
   "cell_type": "code",
   "execution_count": 45,
   "metadata": {},
   "outputs": [],
   "source": [
    "#Extracts word-ngrams, when n=1 is equal to bag of words\n",
    "def wordNgrams(text, n):\n",
    "    ngrams = []\n",
    "    text = [word for word in text.split() if word not in string.punctuation]\n",
    "    ngrams = [' '.join(text[i:i+n])+'' for i in range(len(text)-n+1)]\n",
    "    return ngrams"
   ]
  },
  {
   "cell_type": "code",
   "execution_count": 46,
   "metadata": {},
   "outputs": [],
   "source": [
    "#Extracts character n-grams\n",
    "def charNgrams(text, n):\n",
    "    ngrams = []\n",
    "    ngrams = [text[i:i+n]+'_cng' for i in range(len(text)-n+1)]\n",
    "    return ngrams"
   ]
  },
  {
   "cell_type": "code",
   "execution_count": 47,
   "metadata": {},
   "outputs": [],
   "source": [
    "#Extracts function words n-grams with a pre-loaded dictionary\n",
    "def funcNgrams(text, n):\n",
    "    stop_words = load_diccionario('Urdu-stop-words')\n",
    "    patt=r'\\b(' + ('|'.join(re.escape(key) for key in stop_words)).lstrip('|') + r')\\b'\n",
    "    pattern = re.compile(patt)\n",
    "    text = re.sub(r\"(\\n+|\\r+|(\\r\\n)+)\", \" \", text)\n",
    "    text = re.sub(r\" +\", \" \", text)\n",
    "    text = re.sub(r\"’\", \"'\", text)\n",
    "    text = re.sub(r\"[\" + punctuation + \"]*\", \"\", text)\n",
    "    terms = pattern.findall(text)\n",
    "    n_grams=[('_'.join(terms[i:i+n])) + \"_fwn\" for i in range(len(terms)-n+1)]\n",
    "\n",
    "    return n_grams"
   ]
  },
  {
   "cell_type": "code",
   "execution_count": 48,
   "metadata": {},
   "outputs": [],
   "source": [
    "def load_diccionario(ruta):\n",
    "    terms = set()#Dictionary of slangs\n",
    "    try:\n",
    "        tmp = open(ruta, \"r\")     \n",
    "        while True :\n",
    "            linea = tmp.readline()                                                                                   \n",
    "            #linea = to_unicode(linea) \n",
    "            if (not linea) or (linea == \"\"):                                                                               \n",
    "                break;                                                                                                      \n",
    "            linea = linea.rstrip()\n",
    "            terms.add(linea.lower())\n",
    "        return (terms)\n",
    "    except IOError as e:\n",
    "        print (\"Error: \"+ruta+\" I/O error({0}): {1}\".format(e.errno, e.strerror))\n",
    "        exit(1)"
   ]
  },
  {
   "cell_type": "code",
   "execution_count": 78,
   "metadata": {},
   "outputs": [],
   "source": [
    "def extract_features(text,cn,wn,fn):\n",
    "    text = text.lower()\n",
    "    #text=clean_text(text)\n",
    "    features = []\n",
    "    for n in wn:\n",
    "        if n != 0:\n",
    "            features.extend(wordNgrams(text,n))\n",
    "    for n in cn:\n",
    "        if n != 0:\n",
    "            features.extend(charNgrams(text,n))\n",
    "    for n in fn:\n",
    "            if n != 0:\n",
    "                features.extend(funcNgrams(text,n))\n",
    "    return features"
   ]
  },
  {
   "cell_type": "code",
   "execution_count": 76,
   "metadata": {},
   "outputs": [],
   "source": [
    "# Extracts all features in a set of 'texts' and return as a string separated with the simbol '&%$'\n",
    "def process_texts(texts,cn,wn,fn):\n",
    "    occurrences=defaultdict(int)\n",
    "    featuresList=[]\n",
    "    featuresDict=Counter()\n",
    "    for (text) in texts:\n",
    "        features=extract_features(text,cn,wn,fn)\n",
    "        featuresDict.update(features)\n",
    "        featuresList.append('&%$'.join(features))\n",
    "    return featuresList, featuresDict"
   ]
  },
  {
   "cell_type": "markdown",
   "metadata": {},
   "source": [
    "## Reading and preparing the corpus"
   ]
  },
  {
   "cell_type": "code",
   "execution_count": 40,
   "metadata": {},
   "outputs": [],
   "source": [
    "#utility function for reading files\n",
    "def read_txt_files(files):\n",
    "    text=[]\n",
    "    topic=[]\n",
    "    for i,file_path in enumerate(files):\n",
    "        with open(file_path,'r') as infile:\n",
    "            text.append(infile.read())\n",
    "            file_topic=''.join(re.findall('[A-Za-z]',file_path.split('/')[4].split('.')[0]))\n",
    "            topic.append(file_topic)\n",
    "    return text, topic"
   ]
  },
  {
   "cell_type": "code",
   "execution_count": 60,
   "metadata": {},
   "outputs": [],
   "source": [
    "#reading the path of real and fake news for training\n",
    "train_path_real='../corpus/train/real/'\n",
    "train_path_fake='../corpus/train/fake/'\n",
    "\n",
    "real_news, real_news_topics = read_txt_files(glob.glob(train_path_real+'*.txt'))\n",
    "fake_news, fake_news_topics = read_txt_files(glob.glob(train_path_fake+'*.txt'))\n",
    "\n",
    "#contatenating real and fake news in one variable for training\n",
    "train_texts = np.concatenate((real_news, fake_news))\n",
    "train_labels = np.concatenate((np.ones(len(real_news)), np.zeros(len(fake_news))))\n",
    "train_topics = np.concatenate((real_news_topics, fake_news_topics))"
   ]
  },
  {
   "cell_type": "code",
   "execution_count": 61,
   "metadata": {},
   "outputs": [
    {
     "name": "stdout",
     "output_type": "stream",
     "text": [
      "Train:\n",
      "\t Real: 493\n",
      "\t Fake: 2\n"
     ]
    }
   ],
   "source": [
    "print ('Train:')\n",
    "print ('\\t Real:',len(real_news))\n",
    "print ('\\t Fake:',len(fake_news))"
   ]
  },
  {
   "cell_type": "code",
   "execution_count": 62,
   "metadata": {},
   "outputs": [],
   "source": [
    "#reading the path of real and fake news for testing\n",
    "test_path_real='../corpus/test/real'\n",
    "test_path_fake='../corpus/test/fake'\n",
    "\n",
    "real_news, real_news_topics = read_txt_files(glob.glob(test_path_real+'*.txt'))\n",
    "fake_news, fake_news_topics = read_txt_files(glob.glob(test_path_fake+'*.txt'))\n",
    "\n",
    "#contatenating real and fake news in one variable for testing\n",
    "test_texts = np.concatenate((real_news, fake_news))\n",
    "test_labels = np.concatenate((np.ones(len(real_news)), np.zeros(len(fake_news))))\n",
    "test_topics = np.concatenate((real_news_topics, fake_news_topics))"
   ]
  },
  {
   "cell_type": "code",
   "execution_count": 63,
   "metadata": {},
   "outputs": [
    {
     "name": "stdout",
     "output_type": "stream",
     "text": [
      "Test:\n",
      "\t Real: 0\n",
      "\t Fake: 0\n"
     ]
    }
   ],
   "source": [
    "print ('Test:')\n",
    "print ('\\t Real:',len(real_news))\n",
    "print ('\\t Fake:',len(fake_news))"
   ]
  },
  {
   "cell_type": "markdown",
   "metadata": {},
   "source": [
    "## Parametrization and feature extraction"
   ]
  },
  {
   "cell_type": "code",
   "execution_count": 79,
   "metadata": {},
   "outputs": [
    {
     "name": "stdout",
     "output_type": "stream",
     "text": [
      "Extracting features\n",
      "\t labels 495\n",
      "\t tweets 495\n",
      "\t vocabulary size 304569\n",
      "\t class dictribution Counter({1.0: 493, 0.0: 2})\n"
     ]
    }
   ],
   "source": [
    "# Parameters\n",
    "cnvalues=[3] #character n-grams\n",
    "wnvalues=[2,3] # word n-grams\n",
    "fnvalues=[0] # function words n-grams\n",
    "\n",
    "print('Extracting features')\n",
    "train_features, dicOfFeatures = process_texts(train_texts,cnvalues,wnvalues,fnvalues)\n",
    "\n",
    "vectorizer = CountVectorizer(lowercase=False, min_df=2, tokenizer=lambda x: x.split('&%$')) #--> we can change this\n",
    "train_data = vectorizer.fit_transform(train_features)\n",
    "train_data = train_data.astype(float)\n",
    "print('\\t', 'labels', len(train_labels))\n",
    "print('\\t', 'tweets', len(train_texts))\n",
    "print('\\t', 'vocabulary size',len(dicOfFeatures))\n",
    "print('\\t', 'class dictribution',Counter(train_labels))"
   ]
  },
  {
   "cell_type": "markdown",
   "metadata": {},
   "source": [
    "## Frequency threshold"
   ]
  },
  {
   "cell_type": "code",
   "execution_count": 81,
   "metadata": {},
   "outputs": [
    {
     "name": "stdout",
     "output_type": "stream",
     "text": [
      "(495, 17333)\n"
     ]
    }
   ],
   "source": [
    "N=5\n",
    "X=train_data\n",
    "values=np.array(X.sum(axis=0)).ravel()\n",
    "thresholdMask=(values >= N)*1\n",
    "indices_zero = list(np.nonzero(thresholdMask == 0)[0])\n",
    "all_cols = np.arange(X.shape[1])\n",
    "cols_to_keep = np.where(np.logical_not(np.in1d(all_cols, indices_zero)))[0]\n",
    "train_data = X[:, cols_to_keep]\n",
    "#####\n",
    "\n",
    "print(train_data.shape)\n",
    "    \n",
    "scaled_train_data=train_data\n",
    "    "
   ]
  },
  {
   "cell_type": "markdown",
   "metadata": {},
   "source": [
    "## Weighting schemes"
   ]
  },
  {
   "cell_type": "code",
   "execution_count": 82,
   "metadata": {},
   "outputs": [
    {
     "name": "stdout",
     "output_type": "stream",
     "text": [
      "feature_weight = tf\n"
     ]
    }
   ],
   "source": [
    "feature_weight='tf' # possible values: binary, logent, tfidf, norm, relat\n",
    "\n",
    "if feature_weight == 'binary':\n",
    "    scaled_train_data = preprocessing.Binarizer().fit_transform(scaled_train_data)\n",
    "\n",
    "elif feature_weight == 'logent':\n",
    "    Xc = Scipy2Corpus(scaled_train_data)\n",
    "    log_ent = LogEntropyModel(Xc)\n",
    "    X = log_ent[Xc]\n",
    "    X = corpus2csc(X)\n",
    "    scaled_train_data = sp.csc_matrix.transpose(X)\n",
    "\n",
    "elif feature_weight == 'tfidf':\n",
    "    transformer = TfidfTransformer()\n",
    "    scaled_train_data = transformer.fit_transform(scaled_train_data)\n",
    "\n",
    "elif feature_weight=='norm':\n",
    "    #scaled_train_data = preprocessing.normalize(scaled_train_data, norm='l2')\n",
    "    #Scaling data\n",
    "    max_abs_scaler = preprocessing.MaxAbsScaler()\n",
    "    scaled_train_data = max_abs_scaler.fit_transform(train_data)\n",
    "elif feature_weight=='relat':\n",
    "    s = scaled_train_data.sum(axis = 1)\n",
    "    scaled_train_data = coo_matrix(np.nan_to_num(scaled_train_data/s))\n",
    "\n",
    "else:\n",
    "    print (\"feature_weight = tf\")"
   ]
  },
  {
   "cell_type": "code",
   "execution_count": 84,
   "metadata": {},
   "outputs": [],
   "source": [
    "#Utility function\n",
    "originalclass=[]\n",
    "predictedclass=[]\n",
    "def classification_report_with_f1_score(y_true, y_pred):\n",
    "    originalclass.extend(y_true)\n",
    "    predictedclass.extend(y_pred)\n",
    "    return f1_score(y_true, y_pred) # return accuracy score"
   ]
  },
  {
   "cell_type": "markdown",
   "metadata": {},
   "source": [
    "## Classification Process - Training"
   ]
  },
  {
   "cell_type": "code",
   "execution_count": null,
   "metadata": {},
   "outputs": [
    {
     "name": "stdout",
     "output_type": "stream",
     "text": [
      "Training Classifier\n"
     ]
    },
    {
     "name": "stderr",
     "output_type": "stream",
     "text": [
      "/home/helena/anaconda3/lib/python3.6/site-packages/sklearn/model_selection/_split.py:605: Warning: The least populated class in y has only 2 members, which is too few. The minimum number of members in any class cannot be less than n_splits=10.\n",
      "  % (min_groups, self.n_splits)), Warning)\n"
     ]
    },
    {
     "name": "stdout",
     "output_type": "stream",
     "text": [
      "             precision    recall  f1-score   support\n",
      "\n",
      "        0.0       0.00      0.00      0.00         2\n",
      "        1.0       1.00      1.00      1.00       493\n",
      "\n",
      "avg / total       0.99      0.99      0.99       495\n",
      "\n",
      "10-Fold Cross-validation Linear SVC 0.9959579463100949\n"
     ]
    },
    {
     "name": "stderr",
     "output_type": "stream",
     "text": [
      "/home/helena/anaconda3/lib/python3.6/site-packages/sklearn/model_selection/_split.py:605: Warning: The least populated class in y has only 2 members, which is too few. The minimum number of members in any class cannot be less than n_splits=10.\n",
      "  % (min_groups, self.n_splits)), Warning)\n"
     ]
    }
   ],
   "source": [
    "print('Training Classifier')\n",
    "    \n",
    "# Applying classification algorithms\n",
    "clf=LinearSVC(C=0.01,class_weight='balanced')\n",
    "clfSVC=SVC(C=0.01, kernel='linear',class_weight='balanced')\n",
    "clfMnb=MultinomialNB()\n",
    "clfBnb=BernoulliNB()\n",
    "clfLG=LogisticRegression(solver='lbfgs', tol=0.001, C=0.01,class_weight='balanced')\n",
    "\n",
    "nested_score = cross_val_score(clf, X=scaled_train_data, y=train_labels, cv=10, scoring=make_scorer(classification_report_with_f1_score))\n",
    "#cvScoreLinearSVC=cross_val_score(clf, scaled_train_data, train_labels, cv=10, scoring='f1').mean()\n",
    "print(classification_report(originalclass, predictedclass))\n",
    "print('10-Fold Cross-validation Linear SVC',nested_score.mean())\n",
    "\n",
    "cvScoreLG=cross_val_score(clfLG, scaled_train_data, train_labels, cv=10, scoring='f1').mean()\n",
    "print('10-Fold Cross-validation Logistic Regression',cvScoreLG)\n",
    "\n",
    "cvScoreMnb=cross_val_score(clfMnb, scaled_train_data, train_labels, cv=10, scoring='f1').mean()\n",
    "print('10-Fold Cross-validation Multinomial Naive Bayes',cvScoreMnb)\n",
    "\n",
    "cvScoreBnb=cross_val_score(clfBnb, scaled_train_data, train_labels, cv=10, scoring='f1').mean()\n",
    "print('10-Fold Cross-validation Bernoulli Naive Bayes',cvScoreBnb)"
   ]
  },
  {
   "cell_type": "code",
   "execution_count": null,
   "metadata": {},
   "outputs": [],
   "source": []
  }
 ],
 "metadata": {
  "kernelspec": {
   "display_name": "Python 3",
   "language": "python",
   "name": "python3"
  },
  "language_info": {
   "codemirror_mode": {
    "name": "ipython",
    "version": 3
   },
   "file_extension": ".py",
   "mimetype": "text/x-python",
   "name": "python",
   "nbconvert_exporter": "python",
   "pygments_lexer": "ipython3",
   "version": "3.6.5"
  }
 },
 "nbformat": 4,
 "nbformat_minor": 2
}
